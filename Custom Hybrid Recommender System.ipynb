{
  "nbformat": 4,
  "nbformat_minor": 0,
  "metadata": {
    "colab": {
      "provenance": [],
      "collapsed_sections": [],
      "toc_visible": true
    },
    "kernelspec": {
      "display_name": "Python 3",
      "name": "python3"
    },
    "language_info": {
      "name": "python"
    }
  },
  "cells": [
    {
      "cell_type": "markdown",
      "metadata": {
        "id": "KJOwF2Kn2kqw"
      },
      "source": [
        "# (1) Introduction"
      ]
    },
    {
      "cell_type": "markdown",
      "metadata": {
        "id": "vdBoDWpz7lKx"
      },
      "source": [
        "## (1.1) Libraries Choice\n",
        "Python being an extremely versatile and expressive programming language has become the main tool for development and maintenance of complex projects in the fields of machine learning, big data processing e.t.c. Being able to choose among a plethora of libraries that allow for effective deployment of recommendation engines, I had a hard time choosing the most proper ones.\n",
        "\n",
        "After an extensive research, I decided that my final decision should be based mainly on the dataset that I will be trying to evaluate upon. That is why I sticked to Lenskit. Not only it is a long running project (previous versions being available in the java programming language), but it was developed with MovieLens dataset in mind, resulting in really useful implementations that allow for easier data manipulation when it comes to datasets like Movielens.\n",
        "\n",
        "Except for all the basic math and data science oriented python libraries like numpy and pandas, we will be also using the LightFM library. LightFM is a workframe allowing for experimentation using the very robust and adjustable hybrid recommendation algorith with the same name. In this way, we will able to run the most popular recommendation algorithms using the Lenskit API and then comparing them to the LightFM algorithm, fed with custom metadata and adjusted for other custom recommendation algorithms."
      ]
    },
    {
      "cell_type": "markdown",
      "metadata": {
        "id": "-xJGD0xs7q3p"
      },
      "source": [
        "## (1.2) Recommendation Approach\n",
        "\n",
        "For most rating prediction algorithms, there is no one-way approach for their adaptation to the top-N recommendation task. Lenskit library follows the most popular approach by constructing a candidates set, containing all the movies eligible to be recommended to a user. Then, ratings are predicted for all the members of the candidates set and the top-N rated movies are being suggested to the user. All the top-N evaluation metrics are applied by comparing the test set interactions (user ratings for specific users) with the ranking of the candidates.\n",
        "\n",
        "But what policy is being followed when choosing the candidates? Again, Lenskit uses one of the most popular approaches. For each user that appears in the test set, all the movies that appeared in the train set and have not been interacted with by the specific user, are eligible for suggestion. Ratings given by each test user for the movies he has not interacted with in the train set, are being calculated with the algorithm of choice, then highest rated movies are suggested for each user."
      ]
    },
    {
      "cell_type": "markdown",
      "metadata": {
        "id": "ExXNPsbp-9oR"
      },
      "source": [
        "## (1.3) Predictive Limitations\n",
        "\n",
        "  Even though, our recommendation approach is really intuitive and widely accepted, it suffers from some minor limitations. They have to do with the fact that most recommendation libraries (including LightFM and Lenskit), produce folds by seperating user interactions (in our case ratings) into the train and test sets with a specified ratio. They don't take into consideration the nature of the items that are being interacted with.\n",
        "\n",
        " Specifically, Lenskit and LightFM don't guarantee that movies contained in the test set's interactions, appear in some train interactions. This, combined with the candidates set policy described above, makes it impossible for top-N recommendation algorithms to suggest movies not contained in the train set. In most cases, train set contains a solid majority of all interactions, meaning it is very improbable for a movie in the test set to not appear in the train set. Most movies that do so, are very obscure and have been interacted with a very small number of users, implying that they won't have a big effect on the evaluation metrics values, affecting the quality of recommendation lists for handful users."
      ]
    },
    {
      "cell_type": "markdown",
      "metadata": {
        "id": "sMmvqVizkfEZ"
      },
      "source": [
        "## (1.4) Metrics Explaination\n",
        "\n",
        "We define our truth set as the set of items that user u has interacted with in the test set and we represent it with $T_u$.\n",
        "\n",
        "We define our suggestion set as the set of items that we recommend to the user u\n",
        "and we represent it with $R_u$.\n",
        "\n",
        "Now we can define the output metric values as the mean of the following:\n",
        "\n",
        "Precision = $\\frac{\\left |  \\{ m \\in T_u \\wedge m \\in R_u \\} \\right |}{\\left | R_u \\right |}$\n",
        "\n",
        "Recall = $\\frac{\\left |  \\{ m \\in T_u \\wedge m \\in R_u \\} \\right |}{\\left | T_u \\right |}$, which means that recall may not be 1 in the case when we suggest all\n",
        "of the elements in the candidate set, as there may be items that user has interacted with in the test set that don't appear in the candidate set."
      ]
    },
    {
      "cell_type": "markdown",
      "metadata": {
        "id": "VC2QAFhL28t1"
      },
      "source": [
        "# (2) Tools Loading"
      ]
    },
    {
      "cell_type": "markdown",
      "metadata": {
        "id": "WJHDARI55_ib"
      },
      "source": [
        "## (2.1) Installs"
      ]
    },
    {
      "cell_type": "markdown",
      "metadata": {
        "id": "0b3xH8mT6I0F"
      },
      "source": [
        "Lenskit : Our main library that accomodates all the necessary tools for running and evaluating the most popular recommendation algorithms both in the rating prediction and top-n recommendation tasks\n",
        "\n",
        "FastParquet: Python library allowing for decoding and loading of dataframes stored in parquet format, that is followed by the 10 million movies dataset frames\n",
        "\n",
        "Snappy & Pyarrow: Prerequisites for proper decoding conducted by FastParquet utility functions"
      ]
    },
    {
      "cell_type": "code",
      "metadata": {
        "id": "rYAU-OuRbqlq",
        "colab": {
          "base_uri": "https://localhost:8080/"
        },
        "outputId": "78fd66ba-1e5d-4996-9567-e7c94df7f0fc"
      },
      "source": [
        "!pip install numpy==1.20.0\n",
        "!pip install fastparquet==0.6.0.post1\n",
        "# !pip install fastparquet\n",
        "# our main recommendation system deployment framework\n",
        "!pip install lenskit\n",
        "# for parquet dataframes retrieval and update\n",
        "# !pip install --no-binary :all: fastparquet-0.6.0.post1\n",
        "# !pip install fastparquet --no-cache-dir --no-binary :all:\n",
        "# decompression mechanisms for parquet dataframes\n",
        "!pip install python-snappy\n",
        "!pip install pyarrow\n",
        "!sudo apt-get install libsnappy-dev\n",
        "!python3 -m pip install --user python-snappy\n",
        "!pip install --upgrade tbb\n",
        "!pip install lightfm\n",
        "!pip install thefuzz[speedup]"
      ],
      "execution_count": null,
      "outputs": [
        {
          "output_type": "stream",
          "name": "stdout",
          "text": [
            "Requirement already satisfied: numpy==1.20.0 in /usr/local/lib/python3.7/dist-packages (1.20.0)\n",
            "Requirement already satisfied: fastparquet==0.6.0.post1 in /usr/local/lib/python3.7/dist-packages (0.6.0.post1)\n",
            "Requirement already satisfied: cramjam>=2.3.0 in /usr/local/lib/python3.7/dist-packages (from fastparquet==0.6.0.post1) (2.5.0)\n",
            "Requirement already satisfied: thrift>=0.11.0 in /usr/local/lib/python3.7/dist-packages (from fastparquet==0.6.0.post1) (0.15.0)\n",
            "Requirement already satisfied: pandas>=1.1.0 in /usr/local/lib/python3.7/dist-packages (from fastparquet==0.6.0.post1) (1.1.5)\n",
            "Requirement already satisfied: numba>=0.49 in /usr/local/lib/python3.7/dist-packages (from fastparquet==0.6.0.post1) (0.51.2)\n",
            "Requirement already satisfied: numpy>=1.11 in /usr/local/lib/python3.7/dist-packages (from fastparquet==0.6.0.post1) (1.20.0)\n",
            "Requirement already satisfied: setuptools in /usr/local/lib/python3.7/dist-packages (from numba>=0.49->fastparquet==0.6.0.post1) (57.4.0)\n",
            "Requirement already satisfied: llvmlite<0.35,>=0.34.0.dev0 in /usr/local/lib/python3.7/dist-packages (from numba>=0.49->fastparquet==0.6.0.post1) (0.34.0)\n",
            "Requirement already satisfied: pytz>=2017.2 in /usr/local/lib/python3.7/dist-packages (from pandas>=1.1.0->fastparquet==0.6.0.post1) (2018.9)\n",
            "Requirement already satisfied: python-dateutil>=2.7.3 in /usr/local/lib/python3.7/dist-packages (from pandas>=1.1.0->fastparquet==0.6.0.post1) (2.8.2)\n",
            "Requirement already satisfied: six>=1.5 in /usr/local/lib/python3.7/dist-packages (from python-dateutil>=2.7.3->pandas>=1.1.0->fastparquet==0.6.0.post1) (1.15.0)\n",
            "Requirement already satisfied: lenskit in /usr/local/lib/python3.7/dist-packages (0.13.1)\n",
            "Requirement already satisfied: pandas>=0.24 in /usr/local/lib/python3.7/dist-packages (from lenskit) (1.1.5)\n",
            "Requirement already satisfied: seedbank>=0.1.0 in /usr/local/lib/python3.7/dist-packages (from lenskit) (0.1.2)\n",
            "Requirement already satisfied: pyarrow>=0.15 in /usr/local/lib/python3.7/dist-packages (from lenskit) (3.0.0)\n",
            "Requirement already satisfied: scipy>=1.2 in /usr/local/lib/python3.7/dist-packages (from lenskit) (1.4.1)\n",
            "Requirement already satisfied: binpickle>=0.3.2 in /usr/local/lib/python3.7/dist-packages (from lenskit) (0.3.4)\n",
            "Requirement already satisfied: cffi>=1.12.2 in /usr/local/lib/python3.7/dist-packages (from lenskit) (1.15.0)\n",
            "Requirement already satisfied: csr>=0.3.1 in /usr/local/lib/python3.7/dist-packages (from lenskit) (0.4.0)\n",
            "Requirement already satisfied: numpy>=1.17 in /usr/local/lib/python3.7/dist-packages (from lenskit) (1.20.0)\n",
            "Requirement already satisfied: psutil>=5 in /usr/local/lib/python3.7/dist-packages (from lenskit) (5.4.8)\n",
            "Requirement already satisfied: numba<0.54,>=0.51 in /usr/local/lib/python3.7/dist-packages (from lenskit) (0.51.2)\n",
            "Requirement already satisfied: pickle5 in /usr/local/lib/python3.7/dist-packages (from binpickle>=0.3.2->lenskit) (0.0.12)\n",
            "Requirement already satisfied: msgpack>=1.0 in /usr/local/lib/python3.7/dist-packages (from binpickle>=0.3.2->lenskit) (1.0.3)\n",
            "Requirement already satisfied: pycparser in /usr/local/lib/python3.7/dist-packages (from cffi>=1.12.2->lenskit) (2.21)\n",
            "Requirement already satisfied: llvmlite<0.35,>=0.34.0.dev0 in /usr/local/lib/python3.7/dist-packages (from numba<0.54,>=0.51->lenskit) (0.34.0)\n",
            "Requirement already satisfied: setuptools in /usr/local/lib/python3.7/dist-packages (from numba<0.54,>=0.51->lenskit) (57.4.0)\n",
            "Requirement already satisfied: python-dateutil>=2.7.3 in /usr/local/lib/python3.7/dist-packages (from pandas>=0.24->lenskit) (2.8.2)\n",
            "Requirement already satisfied: pytz>=2017.2 in /usr/local/lib/python3.7/dist-packages (from pandas>=0.24->lenskit) (2018.9)\n",
            "Requirement already satisfied: six>=1.5 in /usr/local/lib/python3.7/dist-packages (from python-dateutil>=2.7.3->pandas>=0.24->lenskit) (1.15.0)\n",
            "Requirement already satisfied: anyconfig in /usr/local/lib/python3.7/dist-packages (from seedbank>=0.1.0->lenskit) (0.12.0)\n",
            "Requirement already satisfied: python-snappy in /usr/local/lib/python3.7/dist-packages (0.6.0)\n",
            "Requirement already satisfied: pyarrow in /usr/local/lib/python3.7/dist-packages (3.0.0)\n",
            "Requirement already satisfied: numpy>=1.16.6 in /usr/local/lib/python3.7/dist-packages (from pyarrow) (1.20.0)\n",
            "Reading package lists... Done\n",
            "Building dependency tree       \n",
            "Reading state information... Done\n",
            "libsnappy-dev is already the newest version (1.1.7-1).\n",
            "0 upgraded, 0 newly installed, 0 to remove and 37 not upgraded.\n",
            "Requirement already satisfied: python-snappy in /usr/local/lib/python3.7/dist-packages (0.6.0)\n",
            "Requirement already satisfied: tbb in /usr/local/lib/python3.7/dist-packages (2021.4.0)\n",
            "Requirement already satisfied: lightfm in /usr/local/lib/python3.7/dist-packages (1.16)\n",
            "Requirement already satisfied: numpy in /usr/local/lib/python3.7/dist-packages (from lightfm) (1.20.0)\n",
            "Requirement already satisfied: requests in /usr/local/lib/python3.7/dist-packages (from lightfm) (2.23.0)\n",
            "Requirement already satisfied: scikit-learn in /usr/local/lib/python3.7/dist-packages (from lightfm) (1.0.1)\n",
            "Requirement already satisfied: scipy>=0.17.0 in /usr/local/lib/python3.7/dist-packages (from lightfm) (1.4.1)\n",
            "Requirement already satisfied: chardet<4,>=3.0.2 in /usr/local/lib/python3.7/dist-packages (from requests->lightfm) (3.0.4)\n",
            "Requirement already satisfied: idna<3,>=2.5 in /usr/local/lib/python3.7/dist-packages (from requests->lightfm) (2.10)\n",
            "Requirement already satisfied: urllib3!=1.25.0,!=1.25.1,<1.26,>=1.21.1 in /usr/local/lib/python3.7/dist-packages (from requests->lightfm) (1.24.3)\n",
            "Requirement already satisfied: certifi>=2017.4.17 in /usr/local/lib/python3.7/dist-packages (from requests->lightfm) (2021.10.8)\n",
            "Requirement already satisfied: joblib>=0.11 in /usr/local/lib/python3.7/dist-packages (from scikit-learn->lightfm) (1.1.0)\n",
            "Requirement already satisfied: threadpoolctl>=2.0.0 in /usr/local/lib/python3.7/dist-packages (from scikit-learn->lightfm) (3.0.0)\n",
            "Requirement already satisfied: thefuzz[speedup] in /usr/local/lib/python3.7/dist-packages (0.19.0)\n",
            "Requirement already satisfied: python-levenshtein>=0.12 in /usr/local/lib/python3.7/dist-packages (from thefuzz[speedup]) (0.12.2)\n",
            "Requirement already satisfied: setuptools in /usr/local/lib/python3.7/dist-packages (from python-levenshtein>=0.12->thefuzz[speedup]) (57.4.0)\n"
          ]
        }
      ]
    },
    {
      "cell_type": "code",
      "metadata": {
        "id": "ef5pET6DhsZO",
        "colab": {
          "base_uri": "https://localhost:8080/"
        },
        "outputId": "4f135863-0b12-4820-a714-173638756716"
      },
      "source": [
        "!pip install --upgrade tbb"
      ],
      "execution_count": null,
      "outputs": [
        {
          "output_type": "stream",
          "name": "stdout",
          "text": [
            "Requirement already satisfied: tbb in /usr/local/lib/python3.7/dist-packages (2021.4.0)\n"
          ]
        }
      ]
    },
    {
      "cell_type": "markdown",
      "metadata": {
        "id": "0hqst2ov3Bts"
      },
      "source": [
        "## (2.1) Imports"
      ]
    },
    {
      "cell_type": "code",
      "metadata": {
        "id": "o6j9VSu5byQC"
      },
      "source": [
        "import lenskit\n",
        "import numpy as np\n",
        "import os\n",
        "from lenskit.datasets import MovieLens\n",
        "from lenskit.batch import MultiEval\n",
        "from lenskit import batch, topn, util\n",
        "from lenskit import crossfold as xf\n",
        "from lenskit.algorithms import Recommender, Predictor, basic, als, item_knn, user_knn, bias\n",
        "from lenskit import topn\n",
        "from lenskit.metrics.predict import rmse, mae\n",
        "from lenskit.metrics.topn import precision, recall, recip_rank, ndcg\n",
        "import pandas as pd\n",
        "from fastparquet import ParquetFile\n",
        "import os\n",
        "import lightfm\n",
        "from lightfm.data import Dataset\n",
        "import scipy.sparse as sp\n",
        "from sklearn.feature_extraction.text import CountVectorizer\n",
        "from functools import reduce\n",
        "from thefuzz import fuzz\n",
        "from thefuzz import process\n",
        "import re\n",
        "from functools import reduce"
      ],
      "execution_count": null,
      "outputs": []
    },
    {
      "cell_type": "markdown",
      "metadata": {
        "id": "RmOAdpwR7GVJ"
      },
      "source": [
        "## (2.2) Google Drive\n",
        "\n",
        "Having to work on two operating systems, we want to have quick access to all of our datasets and metadata, gathered through our experimentation. That is why, all the data that we will be dealing with, is being stored on Google Drive and can be easily loaded during Colab Session on the device of our choice."
      ]
    },
    {
      "cell_type": "code",
      "metadata": {
        "id": "euLbKBysSib0",
        "colab": {
          "base_uri": "https://localhost:8080/"
        },
        "outputId": "e5235b7d-f400-445a-8eb1-ebba251de77f"
      },
      "source": [
        "from google.colab import drive\n",
        "drive.mount('/content/drive')"
      ],
      "execution_count": null,
      "outputs": [
        {
          "output_type": "stream",
          "name": "stdout",
          "text": [
            "Mounted at /content/drive\n"
          ]
        }
      ]
    },
    {
      "cell_type": "markdown",
      "metadata": {
        "id": "6XGlVnQB8F_H"
      },
      "source": [
        "# (3) Code"
      ]
    },
    {
      "cell_type": "markdown",
      "metadata": {
        "id": "-Qu0HENK8LBI"
      },
      "source": [
        "## (3.1) General Use Variables\n",
        "\n",
        "In this section we are storing all the general utility variables that may deem to be useful in the rest of our code, containing mainly of path names for the different parts of our project."
      ]
    },
    {
      "cell_type": "code",
      "metadata": {
        "id": "1WfdD-bRSOup"
      },
      "source": [
        "workplace_path = '/content/drive/MyDrive/Ptyxiaki/Workplace/'\n",
        "\n",
        "# each embeddings workplace workplace\n",
        "# contains the folder with :\n",
        "# 1) a folder containing the initial numpy files (containing movie paths and corresponding embeddings)\n",
        "# 2) movie titles that were extracted from the numpy movie paths\n",
        "# 3) titles of the movies that are both available in the MovieLens dataset and have an embedding\n",
        "# 4) merged numpy array containing the embeddings of the available, embedded movies\n",
        "embeddings_workplace_path = workplace_path + 'embeddings'\n",
        "\n",
        "# audio workplace path\n",
        "audio_workplace_path = embeddings_workplace_path + '/audio'\n",
        "audio_numpy_path = audio_workplace_path + '/features'\n",
        "audio_extracted_movie_titles_path = audio_workplace_path + '/extracted_movie_titles.txt'\n",
        "audio_available_movie_titles_path = audio_workplace_path + '/available_movie_titles.txt'\n",
        "audio_available_movie_ids_path = audio_workplace_path + '/available_movie_ids.txt'\n",
        "audio_available_movie_embeddings_path = audio_workplace_path + '/available_movie_embeddings.npy'\n",
        "audio_available_movie_info = audio_workplace_path + '/available_movie_info.csv'\n",
        "\n",
        "ml_25m_download_path = 'https://files.grouplens.org/datasets/movielens/ml-25m.zip'\n",
        "ml_1m_download_path = 'https://files.grouplens.org/datasets/movielens/ml-1m.zip'\n",
        "ml_100k_download_path = 'https://files.grouplens.org/datasets/movielens/ml-latest-small.zip'\n",
        "\n",
        "ml_25m_dataset_path = workplace_path + 'ml-25m'\n",
        "ml_1m_dataset_path = workplace_path + 'ml-1m'\n",
        "ml_100k_dataset_path = workplace_path + 'ml-latest-small'\n",
        "ml_100k_custom_dataset_path = workplace_path + 'ml-latest-small-custom'\n",
        "\n",
        "ml_25m_zip_path = ml_25m_dataset_path + '.zip'\n",
        "ml_1m_zip_path = ml_1m_dataset_path + '.zip'\n",
        "\n",
        "ml_25m_evaluation_path = ml_25m_dataset_path + '/evals'\n",
        "ml_1m_evaluation_path = ml_1m_dataset_path + '/evals'\n",
        "ml_100k_evaluation_path = ml_100k_dataset_path + '/evals'\n",
        "\n",
        "general_evaluation_path = workplace_path + '/multidataset-evaluations'"
      ],
      "execution_count": null,
      "outputs": []
    },
    {
      "cell_type": "markdown",
      "metadata": {
        "id": "2J-52YdX8iCB"
      },
      "source": [
        "## (3.2) Dataset Download\n",
        "\n",
        "This section contains commented our cells, containing terminal calls that will download the three different versions of MovieLens Dataset (100k, 1M and 25M ratings respectively) to the corresponding dataset folders, stored in our Google Drive. If one wants to re-download the datasets, they can simply uncomment the cells and execute the commands"
      ]
    },
    {
      "cell_type": "markdown",
      "metadata": {
        "id": "rMpR11Uf9GMg"
      },
      "source": [
        "### (3.2.1) 25M Dataset"
      ]
    },
    {
      "cell_type": "code",
      "metadata": {
        "id": "ObFaqdvvW8oJ"
      },
      "source": [
        "# !wget --no-check-certificate -r $ml_25m_download_path -O $ml_25m_zip_path\n",
        "# !md5sum $ml_25m_zip_path\n",
        "# !unzip $ml_25m_zip_path -d $workplace_path"
      ],
      "execution_count": null,
      "outputs": []
    },
    {
      "cell_type": "markdown",
      "metadata": {
        "id": "BPx98wmZ9GpX"
      },
      "source": [
        "### (3.2.2) 1M Dataset"
      ]
    },
    {
      "cell_type": "code",
      "metadata": {
        "id": "PZ-0UdFKk4vg"
      },
      "source": [
        "# !wget --no-check-certificate -r $ml_1m_download_path -O $ml_1m_zip_path\n",
        "# !md5sum $ml_1m_zip_path\n",
        "# !unzip $ml_1m_zip_path -d $workplace_path"
      ],
      "execution_count": null,
      "outputs": []
    },
    {
      "cell_type": "markdown",
      "metadata": {
        "id": "IIFQBKq79HEs"
      },
      "source": [
        "### (3.2.3) 100K Dataset"
      ]
    },
    {
      "cell_type": "code",
      "metadata": {
        "id": "h1O2p-CPZv5u"
      },
      "source": [
        "# !wget --no-check-certificate -r $ml_100k_download_path -O $ml_100k_zip_path\n",
        "# !md5sum $ml_100k_zip_path\n",
        "# !unzip $ml_100k_zip_path -d $workplace_path"
      ],
      "execution_count": null,
      "outputs": []
    },
    {
      "cell_type": "markdown",
      "metadata": {
        "id": "xWykIIQe9dWT"
      },
      "source": [
        "## (3.3) Recommendation System Class\n",
        "\n",
        "In this cell, we are defining a Recommendation System Class, that accomodates a generic workframe for custom dataset loading, storage and experiment conduct. Users are allowed to load a dataset of their choice, conduct dataset folding, storing the sets on disk and running experiments with the duplet of their choice. "
      ]
    },
    {
      "cell_type": "code",
      "metadata": {
        "id": "sjRA1336y3c3"
      },
      "source": [
        "class Recommendation_System:\n",
        "  def __init__(self, algorithms=None, datasets_paths=None, metrics=None, fusion_functions=None):\n",
        "\n",
        "    if datasets_paths is not None:\n",
        "      self.datasets_paths = datasets_paths\n",
        "    else:\n",
        "      self.datasets_paths = {}\n",
        "\n",
        "    if algorithms is not None:\n",
        "      self.algorithms = algorithms\n",
        "    else:\n",
        "      self.algorithms = {}\n",
        "\n",
        "    if metrics is not None:\n",
        "      self.metrics = metrics\n",
        "    else:\n",
        "      self.metrics = {}\n",
        "\n",
        "    if fusion_functions is not None:\n",
        "      self.fusion_functions = fusion_functions\n",
        "    else:\n",
        "      self.fusion_functions = {}\n",
        "\n",
        "  def set_datasets_path_dict(self, path_dict):\n",
        "    self.datasets_paths = path_dict\n",
        "\n",
        "  def add_dataset_path(self, dataset, dataset_path):\n",
        "    self.datasets_paths[dataset] = dataset_path\n",
        "\n",
        "  def remove_dataset_path(self, dataset):\n",
        "    self.datasets_paths.pop(dataset, None)\n",
        "\n",
        "  # returns the metric function\n",
        "  def get_metric(self, metric):\n",
        "    return self.metrics[metric]\n",
        "\n",
        "  def get_datasets_names(self):\n",
        "    return list(self.datasets_paths.keys())\n",
        "\n",
        "  # returns a list containing the paths to system's datasets\n",
        "  def get_datasets_paths(self):\n",
        "    return list(self.datasets_paths.values())\n",
        "\n",
        "  # returns the path to the dataset described by the given name\n",
        "  def get_dataset_path(self, dataset):\n",
        "    return self.datasets_paths[dataset]\n",
        "\n",
        "  # returns an movielens dataset object containing\n",
        "  # the dataframes of the requested dataset\n",
        "  def get_movielens_dataset_instance(self, dataset):\n",
        "    dataset_path = self.get_dataset_path(dataset)\n",
        "    dataset_instance = MovieLens(dataset_path)\n",
        "    \n",
        "    return dataset_instance\n",
        "\n",
        "  def adjust_column_names(self, dataframe):\n",
        "    dataframe.rename(columns={'userId':'user', 'movieId':'item'}, inplace=True)\n",
        "    return dataframe\n",
        "\n",
        "  # SUBJECT TO CHANGE\n",
        "  # returns the ratings dataframe of the given dataset\n",
        "  def get_dataset_ratings(self, dataset):\n",
        "    dataset_path = self.get_dataset_path(dataset)\n",
        "    ratings_path = dataset_path + '/ratings.csv'\n",
        "\n",
        "    ratings_df = pd.read_csv(ratings_path)\n",
        "    ratings_df = self.adjust_column_names(ratings_df)\n",
        "\n",
        "    return ratings_df\n",
        "\n",
        "  def get_dataset_movies(self, dataset):\n",
        "    dataset_path = self.get_dataset_path(dataset)\n",
        "    movies_path = dataset_path + '/movies.csv'\n",
        "\n",
        "    movies_df = pd.read_csv(movies_path)\n",
        "    movies_df = self.adjust_column_names(movies_df)\n",
        "\n",
        "    return movies_df\n",
        "\n",
        "  # reads the train and test set csv\n",
        "  # of each precalculated fold of the given dataset\n",
        "  # returns a duplet of lists containing the train and test sets respectively\n",
        "  def load_dataset_folds(self, dataset):\n",
        "    # folds' train and test sets are stored in the folds directory of the given dataset\n",
        "    dataset_path = self.get_dataset_path(dataset)\n",
        "    folds_path = dataset_path + \"/folds\"\n",
        "\n",
        "    # gather the names of the train and test set files\n",
        "    train_set_files = [train_set_file for train_set_file in os.listdir(folds_path) if train_set_file.startswith('train')]\n",
        "    test_set_files = [test_set_file for test_set_file in os.listdir(folds_path) if test_set_file.startswith('test')]\n",
        "\n",
        "    train_set_files.sort()\n",
        "    test_set_files.sort()\n",
        "\n",
        "    train_folds = []\n",
        "    test_folds = []\n",
        "\n",
        "    # gathering the csv files containing\n",
        "    # the train set of each precalculated fold\n",
        "    for train_set_file in train_set_files:\n",
        "      train_fold_path = folds_path + '/' + train_set_file\n",
        "      train_fold = pd.read_csv(train_fold_path)\n",
        "      train_folds.append(train_fold)\n",
        "\n",
        "    # gathering the csv files containing\n",
        "    # the test set of each precalculated fold\n",
        "    for test_set_file in test_set_files:\n",
        "      test_fold_path = folds_path + '/' + test_set_file\n",
        "      test_fold = pd.read_csv(test_fold_path)\n",
        "      test_folds.append(test_fold)\n",
        "\n",
        "    return train_folds, test_folds\n",
        "\n",
        "  # stores the given train and test sets of calculated folds\n",
        "  # in the given dataset's folds directory\n",
        "  def store_dataset_folds(self, dataset, train_data, test_data):\n",
        "    dataset_path = self.get_dataset_path(dataset)\n",
        "\n",
        "    for i, train_set in enumerate(train_data):\n",
        "        train_set_path = dataset_path + '/folds/train' + str(i + 1) + '.csv'\n",
        "        train_set.to_csv(train_set_path, index=False)\n",
        "\n",
        "    for i, test_set in enumerate(test_data):\n",
        "      test_set_path = dataset_path + '/folds/test' + str(i + 1) + '.csv'\n",
        "      test_set.to_csv(test_set_path, index=False)\n",
        "\n",
        "  # produces K folds of given datasets\n",
        "  # a.k.a. different train, test set pairs\n",
        "  # returns a two lists, containing the train and test dataframes for each fold as a tuple\n",
        "  def calculate_dataset_folds(self, dataset, folds=1, test_user_sample_frequency=0.2, wanted_columns=None, store=False):\n",
        "    # getting the ratings of current dataset\n",
        "    ratings_df = self.get_dataset_ratings(dataset)\n",
        "    # if no specific columns to be kept are specified\n",
        "    # we keep only the user, item, rating triplet\n",
        "    # that is necessary for lenskit algorithms to work\n",
        "    if(wanted_columns is None):\n",
        "      wanted_columns = ['user', 'item', 'rating']\n",
        "\n",
        "    # train and test dataframes for each fold\n",
        "    train_data = []\n",
        "    test_data = []\n",
        "\n",
        "    for train, test in xf.partition_users(ratings_df[wanted_columns], folds, xf.SampleFrac(test_user_sample_frequency)):\n",
        "      train_data.append(train)\n",
        "      test_data.append(test)\n",
        " \n",
        "    # calculated folds will be stored in the folds directory of the given directory\n",
        "    if(store):\n",
        "      self.store_dataset_folds(dataset, train_data, test_data)\n",
        "\n",
        "    return train_data, test_data\n",
        "\n",
        "  def get_movies_rows(self, dataset, movie_ids):\n",
        "    movies_df = self.get_dataset_movies(dataset)\n",
        "    movies_rows = pd.DataFrame({'item':movie_ids}).merge(movies_df)\n",
        "\n",
        "    return movies_rows\n",
        "\n",
        "  # returns a constructor function for the given algorithm\n",
        "  def get_algorithm_constructor(self, algorithm):\n",
        "    return self.algorithms[algorithm]\n",
        "\n",
        "  # calls the constructor of the requested algorithms\n",
        "  # choosing the necessary arguments\n",
        "  def initialize_algorithm(self, algorithm_name, **kwargs):\n",
        "    algorithm_constructor = self.get_algorithm_constructor(algorithm_name)\n",
        "    return algorithm_constructor(**kwargs)\n",
        "\n",
        "  # takes as input dataframes corresponding to train and test sets of the folds\n",
        "  # produces the train, test sets interaction matrices to be fed into the LightFM algorithm\n",
        "  def produce_interaction_matrices(self, train_data_folds, test_data_folds):\n",
        "\n",
        "    folds_train_interactions = []\n",
        "    folds_test_interactions = []\n",
        "\n",
        "    for train_data in train_data_folds:\n",
        "      # create internal binding of users with items they have rated\n",
        "      train_dataset = Dataset()\n",
        "      train_dataset.fit(train_data['user'], train_data['item'])\n",
        "      # create a sparse matrix of their interactions (ratings given by users)\n",
        "      train_interactions, _ = train_dataset.build_interactions(list(zip(train_data.user, train_data.item)))\n",
        "      folds_train_interactions.append((train_data, train_interactions))\n",
        "\n",
        "    for test_data in test_data_folds:\n",
        "      # create internal binding of users with items they have rated\n",
        "      test_dataset = Dataset()\n",
        "      test_dataset.fit(test_data['user'], test_data['item'])\n",
        "      # create a sparse matrix of their interactions (ratings given by users)\n",
        "      test_interactions, _ = test_dataset.build_interactions(list(zip(test_data.user, test_data.item)))\n",
        "      folds_test_interactions.append((test_data, test_interactions))\n",
        "\n",
        "\n",
        "    return folds_train_interactions, folds_test_interactions\n",
        "\n",
        "  # in the case of LightFM algorithm\n",
        "  # dataframes have to be transformed into interaction matrices\n",
        "  def interaction_matrices_experiment(self, algorithm):\n",
        "    return (algorithm == \"LightFM\")\n",
        "\n",
        "  # for lenskit algorithms returns the train,test dataframes of each fold\n",
        "  # for LightFM algorithm returns the train, test interaction matrices of each fold\n",
        "  def get_folds(self, algorithm, dataset, folds, load_folds, test_user_sample_frequency):\n",
        "\n",
        "    if(load_folds): \n",
        "      # simply loading precalculated folds from disk\n",
        "      train_data, test_data = self.load_dataset_folds(dataset)\n",
        "    else:\n",
        "      # calculate folds \n",
        "      train_data, test_data = self.calculate_dataset_folds(dataset, folds, test_user_sample_frequency)\n",
        "\n",
        "    return train_data, test_data\n",
        "\n",
        "  # sets current user and item embeddings with\n",
        "  # the embeddings corresponding to the data of the current fold \n",
        "  def adjust_fold_metadata(self, fold, metadata):\n",
        "    # user fed some embeddings\n",
        "    if(metadata is not None):\n",
        "      # if pretrained embeddings for users given, set them as current\n",
        "      if(metadata.pretrain_for_user()):\n",
        "        metadata.current_user_embeddings = metadata.user_embeddings[fold]\n",
        "      # if pretrained embeddings for items given, set them as current\n",
        "      if(metadata.pretrain_for_item()):\n",
        "        metadata.current_item_embeddings = metadata.item_embeddings[fold]\n",
        "\n",
        "  def initialize_fusion_info(self, fusion_order, fusion_type):\n",
        "    self.fusion_order = fusion_order\n",
        "    self.fusion_type = fusion_type\n",
        "\n",
        "  def early_fusion(self):\n",
        "    return (self.fusion_order==\"early\")\n",
        "\n",
        "  def late_fusion(self):\n",
        "    return (self.fusion_order==\"late\")\n",
        "\n",
        "  # checks for the case\n",
        "  # when embeddings are given as initial embeddings to the lightFM algorithm\n",
        "  # edge case of fusion\n",
        "  def initialization_fusion(self):\n",
        "    return (self.fusion_type==\"initialization\")\n",
        "\n",
        "  # runs an experiment with given algorithm applied to train and test sets\n",
        "  # from specified dataset that can be either retrieved from disk or recalculated\n",
        "  # NOTE THAT IF USER GIVES A BIGGER NUMBER OF FOLDS TO LOAD FROM DISK THAN EXISTENT ONES, EXPERIMENTS WILL BE APPLIED ONLY TO THE LATER\n",
        "  def conduct_experiment(self, algorithm, dataset, folding_strategy, epochs=5, recommend=True, recommendations_num=None, metadata=None, fusion_order=None, fusion_type=None, fusion_arguments=None, **kwargs):\n",
        "\n",
        "    # initialize information about fusion approach\n",
        "    self.initialize_fusion_info(fusion_order, fusion_type)\n",
        "\n",
        "    # extract folding information from the given strategy dictionary\n",
        "    folds = folding_strategy['folds']\n",
        "    load_folds = folding_strategy['load_folds']\n",
        "    test_user_sample_frequency = folding_strategy['test_user_sample_frequency']\n",
        "\n",
        "    # retrieving train, test folds either by calculation or from disc\n",
        "    # producing interaction matrices in the case of LightFM\n",
        "    train_data, test_data = self.get_folds(algorithm, dataset, folds, load_folds, test_user_sample_frequency)\n",
        "\n",
        "    # total number of folds stored in drive\n",
        "    stored_folds_number = len(train_data)\n",
        "\n",
        "    experiment_results = []\n",
        "\n",
        "    for current_fold in range(min(folds, stored_folds_number)):\n",
        "\n",
        "      current_train_data = train_data[current_fold]\n",
        "      current_test_data = test_data[current_fold]\n",
        "      # for each fold we are initializing a new instance of the algorithm\n",
        "      algo_instance = self.initialize_algorithm(algorithm, **kwargs)\n",
        "\n",
        "      if(recommend):\n",
        "        # return a frame of recommendations\n",
        "        # get the metadata of embeddings for current fold\n",
        "        self.adjust_fold_metadata(current_fold, metadata)\n",
        "        current_result = self.algo_recommend(algorithm, algo_instance, recommendations_num, epochs, current_train_data, current_test_data, metadata, fusion_arguments)\n",
        "      else:\n",
        "        # return a frame of predictions\n",
        "        current_result = self.algo_predict(algorithm, algo_instance, current_train_data, current_test_data)\n",
        "\n",
        "      experiment_results.append(current_result)\n",
        "\n",
        "    return experiment_results\n",
        "\n",
        "  # function adapts the given algorithm, making it compatible\n",
        "  # with the recommender class or the lightFM policy\n",
        "  # recommender is being fit, then recommendations are produced for\n",
        "  # all the users in the training set\n",
        "  def algo_recommend(self, aname, algo, recs, epochs, train, test, metadata=None, fusion_arguments=None):\n",
        "    if(self.interaction_matrices_experiment(aname)):\n",
        "      return self.algo_recommend_lightFM(aname, algo, recs, epochs, train, test, metadata, fusion_arguments)\n",
        "    else:\n",
        "      return self.algo_recommend_lenskit(aname, algo, recs, train, test)\n",
        "\n",
        "  def algo_recommend_lenskit(self, aname, algo, recs, train, test):\n",
        "    # adapt the given algorithm for recommendation\n",
        "    fittable = util.clone(algo)\n",
        "    fittable = Recommender.adapt(fittable)\n",
        "    fittable.fit(train)\n",
        "\n",
        "    # recommendations will be calculated for each user\n",
        "    users = test.user.unique()\n",
        "    # running the recommender\n",
        "    recs = batch.recommend(algo=fittable, users=users, n=recs)\n",
        "    # add the algorithm name for analyzability\n",
        "    recs['Algorithm'] = aname\n",
        "    return test, recs\n",
        "\n",
        "  def algo_predict(self, aname, algo, train, test, metadata=None):\n",
        "    if(self.interaction_matrices_experiment(aname)):\n",
        "      return self.algo_predict_lightFM(aname, algo, train, test, metadata)\n",
        "    else:\n",
        "      return self.algo_predict_lenskit(aname, algo, train, test)\n",
        "\n",
        "  def algo_predict_lenskit(self, aname, algo, train, test):\n",
        "    # adapt the given algorithm for rating prediction\n",
        "    fittable = util.clone(algo)\n",
        "    fittable.fit(train)\n",
        "    # running the predictor\n",
        "    recs = batch.predict(algo=fittable, pairs=test)\n",
        "    # add the algorithm name for analyzability\n",
        "    recs['Algorithm'] = aname\n",
        "    return test, recs\n",
        "\n",
        "  def algo_predict_lightFM(self, aname, algo, train, test, metadata):\n",
        "    # LightFM doesn't support rating prediction\n",
        "    return -1\n",
        "\n",
        "  # returns a set of all movies the given user\n",
        "  # has interacted (given rating) with in the train set\n",
        "  def get_interacted_movies(self, train_df, user):\n",
        "    return set(train_df.loc[train_df['user'] == user]['item'])\n",
        "\n",
        "  # implementing the default candidates suggestion\n",
        "  # policy used in the lenskit library\n",
        "  # for each user in the train set we are searching\n",
        "  # for all the movies he has not interacted with within this set\n",
        "  # returning two lists (users and movies) that merged give\n",
        "  # us all the possible candidate interaction duplets\n",
        "  def get_interaction_candidates(self, train_df, test_df):\n",
        "\n",
        "    # unique movies in the train set\n",
        "    train_movies = set(train_df['item'])\n",
        "    # unique users in the test set\n",
        "    test_users = set(test_df['user'])\n",
        "\n",
        "    user_ids = []\n",
        "    movie_ids = []\n",
        "\n",
        "    for test_user in test_users:\n",
        "\n",
        "      # movies with which test user has interacted with\n",
        "      # in the train set (to be excluded from recommendation)\n",
        "      interacted_movies = self.get_interacted_movies(train_df, test_user)\n",
        "\n",
        "      # movies that test user has not interacted with in the train set\n",
        "      # are possible candidates for recommendations\n",
        "      non_interacted_movies = list(train_movies.difference(interacted_movies))\n",
        "\n",
        "      non_interacted_movies_num = len(non_interacted_movies)\n",
        "\n",
        "      movie_ids.extend(non_interacted_movies)\n",
        "      user_ids.extend([test_user] * non_interacted_movies_num)\n",
        "\n",
        "    return np.array(object=user_ids, dtype='int32'), np.array(object=movie_ids, dtype='int32')\n",
        "\n",
        "\n",
        "  # applies the given mapping to the specified column (entity name)\n",
        "  # of the given dataframes\n",
        "  def apply_entity_mapping(self, entity_name, mapping, dataframes):\n",
        "    # apply mapping to the specified column of each given dataframe\n",
        "    for dataframe in dataframes:\n",
        "      dataframe[entity_name] = dataframe[entity_name].apply(lambda x: mapping[x])\n",
        "\n",
        "  # returns a dictionary mapping\n",
        "  # lightFM entiry identifiers (item or user) to\n",
        "  # the default (lenskit) ones and vice versa\n",
        "  def get_entity_mapping(self, entities):\n",
        "    lenskit_to_lightfm_entity_ids = {}\n",
        "    lightfm_to_lenskit_entity_ids = {}\n",
        "    # for each entity produce a lenskit->lightFM mapping and vice versa\n",
        "    for lightfm_id, lenskit_id in enumerate(entities):\n",
        "      lenskit_to_lightfm_entity_ids[lenskit_id] = lightfm_id\n",
        "      lightfm_to_lenskit_entity_ids[lightfm_id] = lenskit_id\n",
        "\n",
        "    return lenskit_to_lightfm_entity_ids, lightfm_to_lenskit_entity_ids\n",
        "\n",
        "  # using the item, user identifiers and score predictions lists\n",
        "  # to construct a predictions dataframe valid in terms of lenskit evaluation policy\n",
        "  def construct_predictions_df(self, item_ids, user_ids, predictions, recs):\n",
        "    predictions_df = pd.DataFrame(list(zip(item_ids, predictions, user_ids)),\n",
        "                columns =['item', 'score', 'user'])\n",
        "    # add the rank column\n",
        "    predictions_df['rank'] = predictions_df.groupby('user')['score'].rank(method='first', ascending=False).astype(int)\n",
        "    predictions_df = predictions_df.sort_values(by=['user', 'rank'])\n",
        "\n",
        "    # specific number of recommendations requested\n",
        "    # extract only the top-N recommendations\n",
        "    if(recs is not None):\n",
        "      predictions_df = predictions_df.sort_values(['user', 'rank'],ascending = [True, True]).groupby('user').head(recs)\n",
        "\n",
        "    return predictions_df\n",
        "\n",
        "  # construct the matrices containing user and item embeddings\n",
        "  # custom embedding function may be passed or random initial embeddings will be constructed\n",
        "  # then embeddings are applied to the model\n",
        "  def initialize_embeddings(self, algo, metadata, user_number, item_number):\n",
        "    \n",
        "    no_components = algo.no_components\n",
        "    # the number features used in the matrix construction\n",
        "    # initially equal to the number of entities (users or items)\n",
        "    no_item_features = item_number\n",
        "    no_user_features = user_number\n",
        "\n",
        "    # user embeddings given\n",
        "    if(metadata.user_vectors_as_embeddings() and metadata.pretrain_for_user()): \n",
        "      # in the case of early fusion we want to merge random embeddings with given ones\n",
        "      if(self.early_fusion() or self.late_fusion()):\n",
        "        users_embeddings = ((algo.random_state.rand(no_user_features, no_components) - 0.5) / no_components).astype(np.float32)\n",
        "      # no early fusion takes place, just set given metadata as the initial ones\n",
        "      else:\n",
        "        users_embeddings = metadata.current_user_embeddings[0]\n",
        "    # no user embeddings or features given, random initialization \n",
        "    elif(not metadata.pretrain_for_user()):\n",
        "      users_embeddings = ((algo.random_state.rand(no_user_features, no_components) - 0.5) / no_components).astype(np.float32)\n",
        "    # user features given, random initialization of component x component embeddings matrix\n",
        "    else:\n",
        "      no_user_features = no_components\n",
        "      users_embeddings = ((algo.random_state.rand(no_user_features, no_components) - 0.5) / no_components).astype(np.float32)\n",
        "\n",
        "    # item embeddings given\n",
        "    if(metadata.item_vectors_as_embeddings() and metadata.pretrain_for_item()):\n",
        "      # in the case of early fusion we want to merge random embeddings with given ones\n",
        "      if(self.early_fusion() or self.late_fusion()):\n",
        "        items_embeddings = ((algo.random_state.rand(no_item_features, no_components) - 0.5) / no_components).astype(np.float32)\n",
        "      # no early fusion takes place, just set given metadata as the initial ones\n",
        "      else:\n",
        "        items_embeddings = metadata.current_item_embeddings[0]\n",
        "      # no item embeddings or features given, random initialization\n",
        "    elif(not metadata.pretrain_for_item()):\n",
        "      items_embeddings = ((algo.random_state.rand(no_item_features, no_components) - 0.5) / no_components).astype(np.float32)\n",
        "    # user features given, random initialization of component x component embeddings matrix\n",
        "    else:\n",
        "      no_item_features = no_components\n",
        "      items_embeddings = ((algo.random_state.rand(no_item_features, no_components) - 0.5) / no_components).astype(np.float32)\n",
        "\n",
        "    algo._initialize(no_components, no_item_features, no_user_features)\n",
        "\n",
        "    algo.user_embeddings = users_embeddings\n",
        "    algo.item_embeddings = items_embeddings\n",
        "\n",
        "  # construct feature matrices for users and items from given dataframe\n",
        "  # according to metadata instructions (custom embedding functions etc)\n",
        "  def construct_feature_matrices(self, metadata, index):\n",
        "    # no user features given, no user feature matrix\n",
        "    if((not metadata.user_vectors_as_embeddings()) and metadata.pretrain_for_user()): \n",
        "      user_features = metadata.current_user_embeddings[index]\n",
        "    else:\n",
        "      user_features = None\n",
        "\n",
        "    # no item features given, no item feature matrix\n",
        "    if((not metadata.item_vectors_as_embeddings()) and metadata.pretrain_for_item()):\n",
        "      item_features = metadata.current_item_embeddings[index]\n",
        "    else:\n",
        "      item_features = None\n",
        "\n",
        "    return user_features, item_features\n",
        "\n",
        "  # calculates recommendation scores using lightFM hybrid matrix factorization approach\n",
        "  # produces and returns the predictions dataframe following lenskit policy\n",
        "  def algo_recommend_lightFM(self, aname, algo, recs, epochs, train_df, test_df, metadata, fusion_arguments):\n",
        "    # initial dataframe with all the ratings\n",
        "    ratings_df = pd.concat([train_df,test_df], axis=0)\n",
        "    # unique users and items in our dataset\n",
        "    unique_users = ratings_df['user'].unique()\n",
        "    unique_items = ratings_df['item'].unique()\n",
        "    # get user/item mapping from both lenskit/lightFM identifier space\n",
        "    lenskit_to_lightfm_user_ids, lightfm_to_lenskit_user_ids = self.get_entity_mapping(unique_users)\n",
        "    lenskit_to_lightfm_item_ids, lightfm_to_lenskit_item_ids = self.get_entity_mapping(unique_items)\n",
        "\n",
        "    # change the item and user identifiers so they are compatible\n",
        "    # with the lightFM policy\n",
        "    dataframes_list = [train_df, test_df, ratings_df]\n",
        "    self.apply_entity_mapping('user', lenskit_to_lightfm_user_ids, dataframes_list)\n",
        "    self.apply_entity_mapping('item', lenskit_to_lightfm_item_ids, dataframes_list)\n",
        "    # use lightFM dataset to produce internal identifier mapping using all the\n",
        "    # users and items in the dataset\n",
        "    my_dataset = Dataset()\n",
        "    my_dataset.fit(ratings_df['user'], ratings_df['item'])\n",
        "    # create a sparse matrix of their interactions (ratings given by users)\n",
        "    train_interactions, train_weights = my_dataset.build_interactions(list(zip(train_df.user, train_df.item, train_df.rating)))\n",
        "    # initially default feature matrices are considered (identity matrices constructed by the model)\n",
        "    train_u_features = None\n",
        "    train_i_features = None\n",
        "    test_u_features = None\n",
        "    test_i_features = None\n",
        "    # custom embeddings should be constructed\n",
        "    if(metadata is not None):\n",
        "      user_number = len(ratings_df.user.unique())\n",
        "      item_number = len(ratings_df.item.unique())\n",
        "      # initialize user and item embeddings\n",
        "      # if embeddings should be passed as feature matrices, embeddings matrices will\n",
        "      # be randomly initialized\n",
        "      self.initialize_embeddings(algo, metadata, user_number, item_number)\n",
        "      # construct feature matrices (if no feature embedding function was given, they are initialized with None)\n",
        "      train_u_features, train_i_features = self.construct_feature_matrices(metadata, 0)\n",
        "      test_u_features, test_i_features = self.construct_feature_matrices(metadata, 1)\n",
        "\n",
        "\n",
        "      if(self.early_fusion()):\n",
        "        # print(\"Early Fusion with\", self.fusion_type,\"method\")\n",
        "        algo.item_embeddings = self.fusion_functions[self.fusion_type](algo.item_embeddings, metadata.current_item_embeddings, **fusion_arguments)        \n",
        "\n",
        "    # print(algo.item_embeddings)\n",
        "\n",
        "\n",
        "    algo.fit_partial(interactions=train_interactions, user_features=train_u_features, item_features=train_i_features, epochs=epochs, sample_weight=train_weights)\n",
        "    # print(\"Embeddings after fitting:\")\n",
        "    # print(algo.item_embeddings)\n",
        "\n",
        "    if((metadata is not None) and self.late_fusion()):\n",
        "      # print(\"Late fusion with\", self.fusion_type,\"method\")\n",
        "      algo.item_embeddings = (self.fusion_functions[self.fusion_type])(algo.item_embeddings, metadata.current_item_embeddings, **fusion_arguments)\n",
        "      # print(algo.item_embeddings)\n",
        "\n",
        "    # get all the valid candidates (user, item interaction duplets)\n",
        "    # from which final movies to suggest will be calculated\n",
        "    user_ids, item_ids = self.get_interaction_candidates(train_df, test_df)\n",
        "\n",
        "    # predicting scores for each user/item interaction from the candidates set\n",
        "    predictions = algo.predict(user_ids, item_ids, item_features=test_i_features, user_features=test_u_features)\n",
        "    # get the predictions in a dataframe following the lenskit policy\n",
        "    predictions_df = self.construct_predictions_df(item_ids, user_ids, predictions, recs)\n",
        "    # bring the identifiers back to the lenskit space\n",
        "    self.apply_entity_mapping('user', lightfm_to_lenskit_user_ids, [predictions_df, test_df])\n",
        "    self.apply_entity_mapping('item', lightfm_to_lenskit_item_ids, [predictions_df, test_df])\n",
        "    predictions_df['Algorithm'] = aname\n",
        "\n",
        "    return test_df, predictions_df\n",
        "\n",
        "  # extracts the recommendation and the test set dataframes for each fold\n",
        "  # concatenates the dataframes of each folds' test and recommendations respectively\n",
        "  # calculates the mean for all users for the requested metrics\n",
        "  # and returns a dictionary [metric -> mean value]\n",
        "  def evaluate_recommendations(self, recommendation_results, metric_list=None, mute=False):\n",
        "\n",
        "    # column names in the evaluation dataframe\n",
        "    metric_names = {\n",
        "      \"RMSE\": 'rmse',\n",
        "      \"MAE\": 'mae',\n",
        "      \"Precision\": 'precision',\n",
        "      \"Recall\": 'recall',\n",
        "      \"Reciprocal_Rank\": 'recip_rank',\n",
        "      \"nDCG\": 'ndcg'\n",
        "    }\n",
        "\n",
        "    if(metric_list is None):\n",
        "      metric_list = ['Precision', 'Recall', 'Reciprocal_Rank', 'nDCG']\n",
        "\n",
        "    # extract the list of predictions dataframes corresponding to each fold\n",
        "    tests_list, recommendations_list = tuple(map(list, zip(*recommendation_results)))\n",
        "\n",
        "    tests = pd.concat(tests_list, ignore_index=True)\n",
        "    recommendations = pd.concat(recommendations_list, ignore_index=True)\n",
        "\n",
        "    # used to conduct many consecutive evaluations\n",
        "    # the results will be stored in a single array\n",
        "    rla = topn.RecListAnalysis()\n",
        "    # load the evaluation metrics to be calculated\n",
        "    for metric in metric_list:\n",
        "      evaluation_metric = self.get_metric(metric)\n",
        "      rla.add_metric(evaluation_metric)\n",
        "    \n",
        "    # calculate the given metrics for each user\n",
        "    metrics = rla.compute(recommendations, tests)\n",
        "\n",
        "    metric_values = {}\n",
        "    # print metric values and store them in a dictionary\n",
        "    for metric in metric_list:\n",
        "      metric_name = metric_names[metric]\n",
        "      metric_value = metrics[metric_name].mean()\n",
        "      # print\n",
        "      if(not mute):\n",
        "        print('Average ', metric, ': ', metric_value)\n",
        "      # store\n",
        "      metric_values[metric] = metric_value\n",
        "\n",
        "\n",
        "    return metric_values\n",
        "\n",
        "  # extracts the predictions dataframes for each fold\n",
        "  # concatenates the dataframes and calls the error function\n",
        "  # upon the actual ratings and the corresponding predictions\n",
        "  # returns a dictionary of errors\n",
        "  def evaluate_predictions(self, prediction_results, metric_list=None, mute=False):\n",
        "\n",
        "    if(metric_list is None):\n",
        "      metric_list = ['RMSE', 'MAE']\n",
        "\n",
        "    # extract the list of predictions dataframes corresponding to each fold\n",
        "    _, predictions_list = tuple(map(list, zip(*prediction_results)))\n",
        "\n",
        "    # test sets belong to the same dataset\n",
        "    # we can simply concatenate their dataframes for final calculation\n",
        "    predictions = pd.concat(predictions_list, ignore_index=True)\n",
        "\n",
        "    error_values = {}\n",
        "    # for each metric, calculate the error value\n",
        "    for metric in metric_list:\n",
        "      evaluation_metric = self.get_metric(metric)\n",
        "      error = evaluation_metric(predictions['prediction'], predictions['rating'])\n",
        "      if(not mute):\n",
        "        print('Average ', metric, ': ', error)\n",
        "\n",
        "      error_values[metric] = error\n",
        "\n",
        "    return error_values"
      ],
      "execution_count": null,
      "outputs": []
    },
    {
      "cell_type": "markdown",
      "metadata": {
        "id": "CChfep1HL3zw"
      },
      "source": [
        "##(3.4) Utility Dictionaries\n",
        "\n",
        "This cell contains utility dictionaries that are passed and then used by the recommendation system class to effectively extract frames from drive, algorithm constructors e.t.c."
      ]
    },
    {
      "cell_type": "code",
      "metadata": {
        "id": "-fYGMJ_6k3sf"
      },
      "source": [
        "# a general dictionary containing the paths to\n",
        "# the datasets that are used as a key\n",
        "datasets_paths = {\n",
        "  \"ML-100K\": ml_100k_dataset_path,\n",
        "  \"ML-1M\": ml_1m_dataset_path,\n",
        "  \"ML-25M\": ml_25m_dataset_path,\n",
        "  \"ML-100K-CUSTOM\":ml_100k_custom_dataset_path\n",
        "}\n",
        "\n",
        "# dictionary containing pointers to\n",
        "# algorithm constructors\n",
        "algorithms_constructors = {\n",
        "  \"Bias\": bias.Bias,\n",
        "  \"Item-kNN\": item_knn.ItemItem,\n",
        "  \"User-kNN\": user_knn.UserUser,\n",
        "  \"BiasedMF\": als.BiasedMF,\n",
        "  \"ImplicitMF\": als.ImplicitMF, \n",
        "  \"LightFM\": lightfm.LightFM\n",
        "}\n",
        "\n",
        "# the metrics that our recommendation\n",
        "# system can use in the final evaluation\n",
        "# of an experiment\n",
        "metric_constructors = {\n",
        "    \"RMSE\": rmse,\n",
        "    \"MAE\": mae,\n",
        "    \"Precision\": precision,\n",
        "    \"Recall\": recall,\n",
        "    \"Reciprocal_Rank\": recip_rank,\n",
        "    \"nDCG\": ndcg\n",
        "}\n",
        "\n",
        "# specifies :\n",
        "# number of folds upon which the experiment will be conducted\n",
        "# if they will be loaded from drive or recalculated\n",
        "# the percentage of users' ratings in the test set\n",
        "folding_strategy = {\n",
        "    \"folds\": 1,\n",
        "    \"load_folds\": True,\n",
        "    \"test_user_sample_frequency\": 0.2\n",
        "}"
      ],
      "execution_count": null,
      "outputs": []
    },
    {
      "cell_type": "markdown",
      "metadata": {
        "id": "0-yPS0j1MR4w"
      },
      "source": [
        "## (3.5) Algorithms Parameters\n",
        "\n",
        "1. ***Bias***(items=True, users=True, damping=0.0)\n",
        "\n",
        "  *items* – whether to compute item biases\n",
        "\n",
        "  *users* – whether to compute user biases\n",
        "\n",
        "  *damping* (number or tuple) – Bayesian damping to apply to computed biases. Either a number, to damp both user and item biases the same amount, or a (user,item) tuple providing separate damping values.\n",
        "\n",
        "2. ***ItemItem***(nnbrs, min_nbrs=1, min_sim=1e-06, save_nbrs=None, center=True, aggregate='weighted-average')\n",
        "\n",
        "  *nnbrs* (int) – the maximum number of neighbors for scoring each item (None for unlimited)\n",
        "\n",
        "  *min_nbrs* (int) – the minimum number of neighbors for scoring each item\n",
        "\n",
        "  *min_sim* (double) – minimum similarity threshold for considering a neighbor\n",
        "\n",
        "  *save_nbrs* (double) – the number of neighbors to save per item in the trained model (None for unlimited)\n",
        "\n",
        "  *center* (bool) – whether to normalize (mean-center) rating vectors prior to computing similarities and aggregating user rating values. Turn this off when working with unary data and other data types that don’t respond well to centering.\n",
        "\n",
        "  *aggregate* – the type of aggregation to do. Can be weighted-average or sum.\n",
        "  \n",
        "3. ***UserUser***(nnbrs, min_nbrs=1, min_sim=0, center=True, aggregate='weighted-average')\n",
        "\n",
        "  *Same arguments semantics as in the Item to Item KNN algorithm*\n",
        "\n",
        "4. ***BiasedMF***(features, *, iterations=20, reg=0.1, damping=5, bias=True, method='cd', rng_spec=None, progress=None, save_user_features=True)\n",
        "\n",
        "  *features* (int) – the number of features to train\n",
        "\n",
        "  *iterations* (int) – the number of iterations to train\n",
        "\n",
        "  *reg* (float) – the regularization factor; can also be a tuple (ureg, ireg) to specify separate user and item regularization terms.\n",
        "\n",
        "  *damping* (float) – damping factor for the underlying bias.\n",
        "\n",
        "  *bias* (bool or Bias) – the bias model. If True, fits a Bias with damping.\n",
        "\n",
        "  *method* (str) – the solver to use ('cd' or 'lu')\n",
        "\n",
        "    * 'cd' (the default) Coordinate descent, adapted for a separately-trained bias model and to use weighted regularization as in the original ALS paper.\n",
        "\n",
        "    * 'lu' A direct implementation of the original ALS concept using LU-decomposition to solve for the optimized matrices.\n",
        "\n",
        "  *rng_spec* – Random number generator or state.\n",
        "\n",
        "  *progress* – a tqdm.tqdm()-compatible progress bar function\n",
        "\n",
        "5. ***ImplicitMF***(features, *, iterations=20, reg=0.1, weight=40, method='cg', rng_spec=None, progress=None, save_user_features=True)\n",
        "\n",
        "  *features* (int) – the number of features to train\n",
        "\n",
        "  *iterations* (int) – the number of iterations to train\n",
        "\n",
        "  *reg* (double) – the regularization factor\n",
        "\n",
        "  *weight* (double) – the scaling weight for positive samples (α in [HKV2008]).\n",
        "\n",
        "  *method* (string) –\n",
        "\n",
        "  the training method.\n",
        "\n",
        "  * 'cg' (the default) Conjugate gradient method.\n",
        "\n",
        "  * 'lu' A direct implementation of the original implicit-feedback ALS concept using LU-decomposition to solve for the optimized matrices.\n",
        "\n",
        "  *rng_spec* – Random number generator or state (see lenskit.util.random.rng()).\n",
        "\n",
        "  *progress* – a tqdm.tqdm()-compatible progress bar function\n",
        "\n",
        "6. ***LightFM***(no_components=10, k=5, n=10, learning_schedule=’adagrad’, loss=’logistic’, learning_rate=0.05, rho=0.95, epsilon=1e-06, item_alpha=0.0, user_alpha=0.0, max_sampled=10, random_state=None)  \n",
        "\n",
        "  *no_components* (int, optional) – the dimensionality of the feature latent embeddings.\n",
        "\n",
        "  *k* (int, optional) – for k-OS training, the k-th positive example will be selected from the n positive examples sampled for every user.\n",
        "\n",
        "  *n* (int, optional) – for k-OS training, maximum number of positives sampled for each update.\n",
        "\n",
        "  *learning_schedule* (string, optional) – one of (‘adagrad’, ‘adadelta’).\n",
        "\n",
        "  *loss* (string, optional) – one of (‘logistic’, ‘bpr’, ‘warp’, ‘warp-kos’): the loss function.\n",
        "\n",
        "  *learning_rate* (float, optional) – initial learning rate for the adagrad learning schedule.\n",
        "\n",
        "  *rho* (float, optional) – moving average coefficient for the adadelta learning schedule.\n",
        "\n",
        "  *epsilon* (float, optional) – conditioning parameter for the adadelta learning schedule.\n",
        "\n",
        "  *item_alpha* (float, optional) – L2 penalty on item features. Tip: setting this number too high can slow down training. One good way to check is if the final weights in the embeddings turned out to be mostly zero. The same idea applies to the user_alpha parameter.\n",
        "\n",
        "  *user_alpha* (float, optional) – L2 penalty on user features.\n",
        "\n",
        "  *max_sampled* (int, optional) – maximum number of negative samples used during WARP fitting. It requires a lot of sampling to find negative triplets for users that are already well represented by the model; this can lead to very long training times and overfitting. Setting this to a higher number will generally lead to longer training times, but may in some cases improve accuracy.\n",
        "\n",
        "  *random_state* (int seed, RandomState instance, or None) – The seed of the pseudo random number generator to use when shuffling the data and initializing the parameters.\n",
        "\n",
        "  *epochs* (int) - The total number of epochs for the fitting process"
      ]
    },
    {
      "cell_type": "markdown",
      "metadata": {
        "id": "YJrIpyv9B_pL"
      },
      "source": [
        "## (3.6) Algorithms Presentation\n",
        "\n",
        "In this section we will be making a small, informative introduction into the nature of the algorithms that we have chosen in our project. We will be evaluating them in terms of rating prediction and top-N recommendation, without extract experimentation when it comes to parameter grid search. We want to give a general insight into how the algorithms at task work and how they compare with one another in their simplest form"
      ]
    },
    {
      "cell_type": "code",
      "metadata": {
        "id": "YBKexCPJlPF9"
      },
      "source": [
        "recommender = Recommendation_System(algorithms_constructors, datasets_paths, metric_constructors)"
      ],
      "execution_count": null,
      "outputs": []
    },
    {
      "cell_type": "markdown",
      "metadata": {
        "id": "8RqTlsN0CmlE"
      },
      "source": [
        "### (3.6.1) Bias\n",
        "\n",
        "A user-item bias rating prediction algorithm. This implements the following predictor algorithm:\n",
        "\n",
        "$s(u,i)=μ+b_i+b_u$\n",
        "\n",
        "where s outputs the score given by user u for item i, $μ$ is the average rating in the dataset, $b_i$ is the item bias (expressing the average deviation of item's $i$ ratings from the average dataset rating) and $b_u$ is the user bias (expressing the average deviation of user's ratings from the average dataset rating incremented by each rated item's bias)\n",
        "\n",
        "This are the formulas for the described variables:\n",
        "\n",
        "$μ = \\frac{\\sum _{r_{ui} \\in R}^{} r_{ui}}{\\left|R\\right|}$\n",
        "\n",
        "$b_i = \\frac{\\sum _{r_{ui} \\in R_i}^{} \\left( r_{ui} - μ\\right)}{\\left | R_i\\right | + β_i}$\n",
        "\n",
        "$b_u = \\frac{\\sum _{r_{ui} \\in R_u}^{} \\left( r_{ui} - μ - b_i\\right)}{\\left | R_u\\right | + β_u}$\n",
        "\n",
        "\n",
        "\n",
        "Damping values for users and items can be specified ($β_u$ and $β_i$), expressing the a priori average ratings. In this way we can damp low-information users and items towards a mean instead of permitting them to take on extreme values based on few ratings."
      ]
    },
    {
      "cell_type": "code",
      "metadata": {
        "colab": {
          "base_uri": "https://localhost:8080/"
        },
        "id": "I5XZaCCNL_0J",
        "outputId": "ec46c672-51c3-45f3-d721-3b57bada8474"
      },
      "source": [
        "%%time\n",
        "# conducting a ratings prediction experiment for bias algorithm with default parameters\n",
        "# calculating biases both for items and users\n",
        "bias_prediction_results = recommender.conduct_experiment(algorithm='Bias',dataset='ML-100K',folding_strategy=folding_strategy, recommend=False)\n",
        "# calculate the value of all prediction evaluation metrics\n",
        "bias_prediction_evaluations = recommender.evaluate_predictions(prediction_results=bias_prediction_results)"
      ],
      "execution_count": null,
      "outputs": [
        {
          "output_type": "stream",
          "text": [
            "Average  RMSE :  0.8959901704547591\n",
            "Average  MAE :  0.6826879154838712\n",
            "CPU times: user 630 ms, sys: 19.1 ms, total: 649 ms\n",
            "Wall time: 641 ms\n"
          ],
          "name": "stdout"
        }
      ]
    },
    {
      "cell_type": "code",
      "metadata": {
        "colab": {
          "base_uri": "https://localhost:8080/"
        },
        "id": "PIY2FYEN0lrQ",
        "outputId": "c1c03c70-7c11-4823-b8e2-f2841d056e3f"
      },
      "source": [
        "%%time\n",
        "# conducting a suggestion experiment for bias algorithm with default parameters\n",
        "# calculating biases both for items and users\n",
        "bias_recommendation_results = recommender.conduct_experiment(algorithm='Bias',dataset='ML-100K',folding_strategy=folding_strategy, recommend=True, recommendations_num=30)\n",
        "# calculate the value of all recommendations evaluation metrics\n",
        "bias_recommendation_evaluations = recommender.evaluate_recommendations(recommendation_results=bias_recommendation_results)"
      ],
      "execution_count": null,
      "outputs": [
        {
          "output_type": "stream",
          "text": [
            "Average  Precision :  0.000546448087431694\n",
            "Average  Recall :  0.0007123864057143156\n",
            "Average  Reciprocal_Rank :  0.0033708910656583594\n",
            "Average  nDCG :  0.0008246332686014789\n",
            "CPU times: user 2.03 s, sys: 23.6 ms, total: 2.05 s\n",
            "Wall time: 2.05 s\n"
          ],
          "name": "stdout"
        }
      ]
    },
    {
      "cell_type": "markdown",
      "metadata": {
        "id": "w8YOL0E4Pu7b"
      },
      "source": [
        "### (3.6.2) User-User kNN\n",
        "\n",
        "Classic k nearest neighbour algorithm for collaborative filtering based upon users similarity. Each user is represented by a sparse vector of their ratings, making up the ratings matrix rows.\n",
        "\n",
        "A similarity matrix $S \\in R^{\\left |U \\right | \\times \\left |I \\right |}$, where U is the user set and I is the item (movies set). $S_{ij}$ represents the similarity between users i and j vectors. There is a plethora of similarity metrics, most popular of them is cosine similarity metric:\n",
        "\n",
        "${\\displaystyle \\cos(\\theta )={\\mathbf {A} \\cdot \\mathbf {B}  \\over \\|\\mathbf {A} \\|\\|\\mathbf {B} \\|}={\\frac {\\sum \\limits _{i=1}^{n}{A_{i}B_{i}}}{{\\sqrt {\\sum \\limits _{i=1}^{n}{A_{i}^{2}}}}{\\sqrt {\\sum \\limits _{i=1}^{n}{B_{i}^{2}}}}}},}$ where A and B are the user vectors we want to compare\n",
        "\n",
        "From similarity matrix $S$ we infer the k nearest users to the one at task. After that, for each item in the candidate set,as it has been described in the recommendation approach $(1.2)$, we are calculating its score by a weighted average as follows:\n",
        "\n",
        "$s(u,i)=\\frac{\\sum_{k \\in kNN}^{}r_{ki} * S_{uk}}{\\sum_{k \\in kNN}^{}S_{uk}}$, where $r_{ki}$ is the rating for item $i$ of user $k$ contained within the k nearest users to the one at task.\n",
        "\n"
      ]
    },
    {
      "cell_type": "code",
      "metadata": {
        "colab": {
          "base_uri": "https://localhost:8080/"
        },
        "id": "bUNkx2FrL_Na",
        "outputId": "61122127-794f-444b-9ea8-1cb5ad6f0e07"
      },
      "source": [
        "%%time\n",
        "# conducting a ratings prediction experiment for user-user kNN\n",
        "# specifying the number of candidate neighbours to be in range [30-60]\n",
        "# as it widely accepted\n",
        "uu_knn_prediction_results = recommender.conduct_experiment(algorithm='User-kNN',dataset='ML-100K',folding_strategy=folding_strategy, recommend=False, nnbrs=30)\n",
        "# calculate the value of all prediction evaluation metrics\n",
        "# increasing the number of candidate neighbours seems to lower the prediction error\n",
        "uu_knn_prediction_evaluations = recommender.evaluate_predictions(prediction_results=uu_knn_prediction_results)"
      ],
      "execution_count": null,
      "outputs": [
        {
          "output_type": "stream",
          "text": [
            "Average  RMSE :  0.8645012802645796\n",
            "Average  MAE :  0.6602475645352229\n",
            "CPU times: user 722 ms, sys: 8.95 ms, total: 731 ms\n",
            "Wall time: 745 ms\n"
          ],
          "name": "stdout"
        }
      ]
    },
    {
      "cell_type": "code",
      "metadata": {
        "colab": {
          "base_uri": "https://localhost:8080/"
        },
        "id": "Mt2te2oP2j-g",
        "outputId": "4f0f8178-303d-436a-a1e7-587ae48169af"
      },
      "source": [
        "%%time\n",
        "# conducting a top-N recommendation experiment for user-user kNN algorithm with default parameters\n",
        "uu_knn_recommendation_results = recommender.conduct_experiment(algorithm='User-kNN',dataset='ML-100K',folding_strategy=folding_strategy, recommend=True, recommendations_num=30, nnbrs=30)\n",
        "# increasing the number of candidate neighbours seems to have negative effect on the evaluation metrics\n",
        "uu_knn_recommendation_evaluations = recommender.evaluate_recommendations(recommendation_results=uu_knn_recommendation_results)"
      ],
      "execution_count": null,
      "outputs": [
        {
          "output_type": "stream",
          "text": [
            "Average  Precision :  0.0002192982456140351\n",
            "Average  Recall :  0.00010747598207064407\n",
            "Average  Reciprocal_Rank :  0.00048799884326200115\n",
            "Average  nDCG :  0.00010945932698442273\n",
            "CPU times: user 3.44 s, sys: 34.7 ms, total: 3.48 s\n",
            "Wall time: 3.46 s\n"
          ],
          "name": "stdout"
        }
      ]
    },
    {
      "cell_type": "markdown",
      "metadata": {
        "id": "MvMgz8s7P3Tt"
      },
      "source": [
        "### (3.6.3) Item-Item kNN\n",
        "\n",
        "The number of per user interactions is very small in most scenarios, as typical users tend to neglect the fact that they can rate a movie after watching it. That is why, there is also the item to item k nearest neighbour collaborative filtering approach. It works just like the user approach, but the similarity matrix is being computed between items. The final item score is computed as follows:\n",
        "\n",
        "$s(u,i)=\\frac{\\sum_{k \\in kNN}^{}r_{uk} * S_{ik}}{\\sum_{k \\in kNN}^{}S_{ik}}$, where $r_{uk}$ is the rating given by user $u$ to item $k$ that is one of the k most similar to the item at task, which can be infered from the item similarity matrix $S \\in R^{\\left |I \\right | \\times \\left |U \\right |}$."
      ]
    },
    {
      "cell_type": "code",
      "metadata": {
        "colab": {
          "base_uri": "https://localhost:8080/"
        },
        "id": "ZcGeuKJqL-pU",
        "outputId": "8ead79fe-e292-4988-da49-c2f02a1ab3f7"
      },
      "source": [
        "%%time\n",
        "# conducting a ratings prediction experiment for item-item kNN\n",
        "# specifying the number of candidate neighbours to be in range [30-60]\n",
        "# as it widely accepted\n",
        "ii_knn_prediction_results = recommender.conduct_experiment(algorithm='Item-kNN',dataset='ML-100K',folding_strategy=folding_strategy, recommend=False, nnbrs=30)\n",
        "# calculate the value of all prediction evaluation metrics\n",
        "# the error is smaller in comparison with the user user approach\n",
        "# it is something that is expected as there are way more movies rated by many users\n",
        "# than users that have rated the same movies (high cosine similarity)\n",
        "ii_knn_prediction_evaluations = recommender.evaluate_predictions(prediction_results=ii_knn_prediction_results)"
      ],
      "execution_count": null,
      "outputs": [
        {
          "output_type": "stream",
          "text": [
            "Average  RMSE :  0.8456274775377299\n",
            "Average  MAE :  0.6436948061460657\n",
            "CPU times: user 40 s, sys: 21.2 ms, total: 40.1 s\n",
            "Wall time: 29.4 s\n"
          ],
          "name": "stdout"
        }
      ]
    },
    {
      "cell_type": "code",
      "metadata": {
        "colab": {
          "base_uri": "https://localhost:8080/"
        },
        "id": "-6ynm9pv6Yus",
        "outputId": "04f3344d-1b50-4bdb-e9c9-ff12c516b24a"
      },
      "source": [
        "%%time\n",
        "# conducting a top-N recommendation experiment for user-user kNN algorithm with default parameters\n",
        "ii_knn_recommendation_results = recommender.conduct_experiment(algorithm='Item-kNN',dataset='ML-100K',folding_strategy=folding_strategy, recommend=True, recommendations_num=30, nnbrs=30)\n",
        "# lowering rating prediction error seems to result in better recommendations in comparison with the user-user kNN approach\n",
        "ii_knn_recommendation_evaluations = recommender.evaluate_recommendations(recommendation_results=ii_knn_recommendation_results)"
      ],
      "execution_count": null,
      "outputs": [
        {
          "output_type": "stream",
          "text": [
            "Average  Precision :  0.0012021857923497268\n",
            "Average  Recall :  0.0010179069345001937\n",
            "Average  Reciprocal_Rank :  0.0015013524615000839\n",
            "Average  nDCG :  0.0005797635281400043\n",
            "CPU times: user 47.4 s, sys: 59.4 ms, total: 47.5 s\n",
            "Wall time: 36.8 s\n"
          ],
          "name": "stdout"
        }
      ]
    },
    {
      "cell_type": "markdown",
      "metadata": {
        "id": "jn7qxCg9pjrs"
      },
      "source": [
        "### (3.6.4) Biased Matrix Factorization\n",
        "\n",
        "Lenskit implements the baseline of the Alternating Least Square with λ-regularization. It is an extension of the typical matrix factorization problem, where we are trying to approximate the rating matrix $R$ by finding and multiplying the user $U$ and item $M$ feature matrices, so $R \\approx U^{\\intercal} \\times M$\n",
        "\n",
        "Each row of user/item matrix represents the respective item with a vector, whose dimensionality is a hyperparameter and can be specified. $M$ and $U$ are initialized with average rating in R and random values respectively. We are trying to minimize a loss function that consists of the sum of squares of differences of known ratings and the result of multiplication of $U_i$ and $M_j$ (estimated rating) plus the product of regularization parameter $λ$ with the sum of user, item matrices that are multiplied with Tikhonoc Regularization Matrices (in our case these are diagonal matrices containing on the i-th row the number of known ratings given for row's user/item). The upper is summarized in the following mathematical stipulation of the loss function:\n",
        "\n",
        "$\\mathcal{L}_{λ}^{reg}(R,U,M)=\\frac{1}{n}\\sum_{(i,j)\\in I}^{} \\mathcal{L}^2(r_{ij}, u_i, m_j) + λ(\\lVert U \\times Γ_U \\rVert + \\lVert M \\times Γ_M \\rVert)$\n",
        "\n",
        "\n",
        "where $\\mathcal{L}^2$ is the RMSE of the actual rating $r_{ij}$ of user i for item j and the dot product of $i$-th user $u_i$ and $j$-th movie $m_j$ feature vectors, $Γ_U$ and $Γ_M$ represent the diagonal Tikhonov Regularization Matrices described above.\n",
        "\n",
        "After a threshold is satisfied for the newly calculated loss function, we stop the user, item matrices update. Current method is characterized as biased, because all predictions are incremented by the difference of average ratings in the train and test set, if they are not equal."
      ]
    },
    {
      "cell_type": "code",
      "metadata": {
        "colab": {
          "base_uri": "https://localhost:8080/"
        },
        "id": "oyN4PN_3L7ub",
        "outputId": "c5827652-ec86-45cc-d222-e31faf8fa3e4"
      },
      "source": [
        "%%time\n",
        "# we are conducting a rating prediction experiment\n",
        "# with 128 dimensional user/item vectors as the ones with the best LightFM behaviour in the original paper\n",
        "biased_mf_prediction_results = recommender.conduct_experiment(algorithm='BiasedMF',dataset='ML-100K',folding_strategy=folding_strategy, recommend=False, features=24, iterations=20)\n",
        "# increasing latent vector dimensionality up to 128 seems to decrease error in a small manner\n",
        "biased_mf_prediction_evaluations = recommender.evaluate_predictions(prediction_results=biased_mf_prediction_results)"
      ],
      "execution_count": null,
      "outputs": [
        {
          "output_type": "stream",
          "text": [
            "Average  RMSE :  0.8790117071847384\n",
            "Average  MAE :  0.6709265059513042\n",
            "CPU times: user 3.15 s, sys: 2.21 s, total: 5.35 s\n",
            "Wall time: 3.08 s\n"
          ],
          "name": "stdout"
        }
      ]
    },
    {
      "cell_type": "code",
      "metadata": {
        "colab": {
          "base_uri": "https://localhost:8080/"
        },
        "id": "a0dZUTxm9TLP",
        "outputId": "74f719d6-8bd8-4560-a972-6c019f097347"
      },
      "source": [
        "%%time\n",
        "# conducting a top-N recommendation experiment for biased matrix factorization\n",
        "biased_mf_recommendation_results = recommender.conduct_experiment(algorithm='BiasedMF',dataset='ML-100K',folding_strategy=folding_strategy, recommend=True, recommendations_num=30, features=24, iterations=20)\n",
        "# employing the MF approach seems to greatly increase the quality of the prediction lists, especially in terms of reciprocal rank\n",
        "biased_mf_recommendation_evaluations = recommender.evaluate_recommendations(recommendation_results=biased_mf_recommendation_results)"
      ],
      "execution_count": null,
      "outputs": [
        {
          "output_type": "stream",
          "text": [
            "Average  Precision :  0.03038251366120216\n",
            "Average  Recall :  0.038820304375787026\n",
            "Average  Reciprocal_Rank :  0.09698295485887455\n",
            "Average  nDCG :  0.035430596470878345\n",
            "CPU times: user 5.5 s, sys: 3.57 s, total: 9.07 s\n",
            "Wall time: 5.2 s\n"
          ],
          "name": "stdout"
        }
      ]
    },
    {
      "cell_type": "markdown",
      "metadata": {
        "id": "8EikHuEyQCnl"
      },
      "source": [
        "### (3.6.5) Implicit Matrix Factorization\n",
        "\n",
        "Same as the above method, but no bias devaluation is taking place"
      ]
    },
    {
      "cell_type": "code",
      "metadata": {
        "colab": {
          "base_uri": "https://localhost:8080/"
        },
        "id": "xaR_11fH9T17",
        "outputId": "6d788325-dc98-4d49-aef9-c048ef0b7724"
      },
      "source": [
        "%%time\n",
        "# we are conducting a rating prediction experiment\n",
        "# with 128 dimensional user/item vectors as the ones with the best LightFM behaviour in the original paper\n",
        "implicit_mf_prediction_results = recommender.conduct_experiment(algorithm='ImplicitMF',dataset='ML-100K',folding_strategy=folding_strategy, recommend=False, features=24, iterations=20)\n",
        "# rating prediction outputs given by the implicit MF are not bias adjusted, implying they are not on a meaningful scale (in range [0-5])\n",
        "# there is no reason to predict results with this algorithm, we are running the experiment to point out\n",
        "# the limitation that is already stated in the corresponding paper\n",
        "implicit_mf_prediction_evaluations = recommender.evaluate_predictions(prediction_results=implicit_mf_prediction_results)"
      ],
      "execution_count": null,
      "outputs": [
        {
          "output_type": "stream",
          "text": [
            "Average  RMSE :  2.974343609834745\n",
            "Average  MAE :  2.7879699831369558\n",
            "CPU times: user 12.6 s, sys: 3.03 s, total: 15.6 s\n",
            "Wall time: 12.3 s\n"
          ],
          "name": "stdout"
        }
      ]
    },
    {
      "cell_type": "code",
      "metadata": {
        "id": "8Qww_-KKpole",
        "colab": {
          "base_uri": "https://localhost:8080/"
        },
        "outputId": "9435a41d-c3ee-4710-b0d1-2c87636cfed6"
      },
      "source": [
        "%%time\n",
        "# conducting a top-N recommendation experiment for biased matrix factorization\n",
        "implicit_mf_recommendation_results = recommender.conduct_experiment(algorithm='ImplicitMF',dataset='ML-100K',folding_strategy=folding_strategy, recommend=True, recommendations_num=30, features=24, iterations=20)\n",
        "# implicit matrix factorization seems to show amazing top-N recommendation capabilities\n",
        "# with 3 times better reciprocal rank and 1.5 times better cumulative gain\n",
        "implicit_mf_recommendation_evaluations = recommender.evaluate_recommendations(recommendation_results=implicit_mf_recommendation_results)"
      ],
      "execution_count": null,
      "outputs": [
        {
          "output_type": "stream",
          "text": [
            "Average  Precision :  0.09672131147541002\n",
            "Average  Recall :  0.20726971572161018\n",
            "Average  Reciprocal_Rank :  0.25881077539951186\n",
            "Average  nDCG :  0.14661598476533183\n",
            "CPU times: user 6.58 s, sys: 5.47 s, total: 12 s\n",
            "Wall time: 6.67 s\n"
          ],
          "name": "stdout"
        }
      ]
    },
    {
      "cell_type": "markdown",
      "metadata": {
        "id": "6tpqdapQJRnv"
      },
      "source": [
        "### (3.6.6) LightFM\n",
        "\n",
        "LightFM shows a different approach towards top-N recommendation, as it focuses on predicting user-item interactions and learning by ranking true interactions higher than non existent ones.\n",
        "\n",
        "Initially, an interaction matrix $M \\in R^{ \\left | U \\right| \\times \\left | I \\right|}$ is being constructed, where $M_{ij}=1$ implies that user $i$ has interacted (in our case rated) item $j$ and $M_{ij}=0$ stands for a non existent interaction. In this way, we have no missing values that have to be set to a default value, as it was the case in the other matrix factorization algorithms.\n",
        "\n",
        "Our model is described by a set of user features $F^U$ and item features $F^I$, where each feature describes a unique element from the metadata set, which consists of all the literals/tags (e.x. actors, directors names e.t.c.) that can be used to describe a user or an item. Each user u is described by a set of features $f_u \\in F^U$. The same holds for each item i with features $f_i \\in F^I$.\n",
        "\n",
        "The model is parameterised in terms of d-dimensional user and item feature embeddings $e_{f}^{U}$ and $e_{f}^{I}$ for each feature f.\n",
        "Each feature is also described by a scalar bias term ($b_{f}^{U}$ for user and $b_{f}^{I}$ for item features).\n",
        "\n",
        "Each user/item is described by a user/item vector ($q_u$ and $p_i$), which results as the sum of the latent vectors of the features that describe them. They are also described by a bias vector ($b_u$ and $b_i$), which again is the sum of their features' biases vectors.\n",
        "\n",
        "Final interaction score between a user $i$ and an item $j$ is given by the following formula:\n",
        "\n",
        "$\\widehat{r_{ij}} = f(q_u \\cdot p_i + b_u + b_i)$, where f can be any function such $f:R->[0,1]$ (sigmoid function in the lightFM implementation)\n",
        "\n",
        "As we have stated before, LightFM attempts to adjust the learning parameters in a way that existent interactions are rated higher than non existent ones. To put it a more mathematical form, we are trying to:\n",
        "\n",
        "$\\max \\widehat{x}_{uij} = \\widehat{x}_{ui} - \\widehat{x}_{uj}$, where $i$ is an interacted with item and $j$ is randomly chosen item that user $u$ has not interacted with. Parameters of this function are learnt through gradient descent using Adagrad optimizer.\n",
        "\n",
        "This model has been designed having in mind the minimization of the AUC score, meaning that properly ranking existent and non-existent interactions is equal to maximizing the true positive outputs for different values of false positives.\n",
        "\n"
      ]
    },
    {
      "cell_type": "code",
      "metadata": {
        "colab": {
          "base_uri": "https://localhost:8080/"
        },
        "id": "byfdEFiTHRlR",
        "outputId": "ee46abd4-de21-4b4b-8e9c-a7bcf3254228"
      },
      "source": [
        "%%time\n",
        "# conducting a top-N recommendation experiment for lightFM\n",
        "# using the logistic function to evaluate our loss (expecting comperable results to implicit matrix factorization)\n",
        "light_fm_recommendation_results = recommender.conduct_experiment(algorithm='LightFM',dataset='ML-100K',folding_strategy=folding_strategy, epochs=20, recommend=True, recommendations_num=30, no_components=24)\n",
        "# the results are exceeding the ones of the biased matrix factorization but they are little worse than the ones of the implicit MF\n",
        "light_fm_recommendation_evaluations = recommender.evaluate_recommendations(recommendation_results=light_fm_recommendation_results)"
      ],
      "execution_count": null,
      "outputs": [
        {
          "output_type": "stream",
          "text": [
            "Average  Precision :  0.10808743169398924\n",
            "Average  Recall :  0.15519506529030852\n",
            "Average  Reciprocal_Rank :  0.37783341151930827\n",
            "Average  nDCG :  0.14591992139342264\n",
            "CPU times: user 9.4 s, sys: 638 ms, total: 10 s\n",
            "Wall time: 9.98 s\n"
          ],
          "name": "stdout"
        }
      ]
    },
    {
      "cell_type": "code",
      "metadata": {
        "colab": {
          "base_uri": "https://localhost:8080/"
        },
        "id": "aGijIh8EA7rw",
        "outputId": "8acd7bee-483c-47ac-824f-6ab875ef3dfe"
      },
      "source": [
        "%%time\n",
        "# conducting a top-N recommendation experiment for for lightFM\n",
        "# using the Bayesian Personalized Matrix to evaluate our loss (training the model with AUC score in mind)\n",
        "light_fm_recommendation_results = recommender.conduct_experiment(algorithm='LightFM',dataset='ML-100K',folding_strategy=folding_strategy, epochs=20, recommend=True, recommendations_num=30, no_components=24, loss = 'bpr')\n",
        "# the results are almost exactly the same as in the case of the implicit matrix factorization, as one would expect\n",
        "# adding some metadata to describe our items and users is expected to increase both reciprocal rank and cumulative gain\n",
        "light_fm_recommendation_evaluations = recommender.evaluate_recommendations(recommendation_results=light_fm_recommendation_results)"
      ],
      "execution_count": null,
      "outputs": [
        {
          "output_type": "stream",
          "text": [
            "Average  Precision :  0.13770491803278692\n",
            "Average  Recall :  0.22308095044808277\n",
            "Average  Reciprocal_Rank :  0.4538652731374123\n",
            "Average  nDCG :  0.20248988073900345\n",
            "CPU times: user 10.4 s, sys: 436 ms, total: 10.9 s\n",
            "Wall time: 10.8 s\n"
          ],
          "name": "stdout"
        }
      ]
    },
    {
      "cell_type": "markdown",
      "metadata": {
        "id": "UffsqZuediXA"
      },
      "source": [
        "## (3.7) Custom Embeddings Experimentation"
      ]
    },
    {
      "cell_type": "markdown",
      "metadata": {
        "id": "MGULBtZwdpTt"
      },
      "source": [
        "We are constructing custom embeddings, both for users and movie items. Movies are represented by one hot encoding, corresponding to the genres ascribed to them. Users on the other hand, are represented by genre rating frequency vectors. For example if the first and second dimension of the embedding represent western and comedy genre. If a user has rated 5 westerns and 8 comedies, his custom embedding will contained the corresponding values in the first and second dimension, normalized by the biggest frequency (all dimensions are normalized to the maximum value of 1)."
      ]
    },
    {
      "cell_type": "code",
      "metadata": {
        "id": "01fJiB7pEzJt"
      },
      "source": [
        "def sum_column_lists(series):\n",
        "       return reduce(lambda x, y: list(map(sum, zip(x,y))), series)\n",
        "\n",
        "# constructs a one hot vector encoding for existing genres for each movie\n",
        "# SOME MOVIES HAVE NOT BEEN RATED! (not taken into consideration in embeddings construction)\n",
        "def get_genre_movie_embeddings(dataset_path, target_df=None):\n",
        "\n",
        "  vect = CountVectorizer()\n",
        "  item_column_name = 'movieId'\n",
        "\n",
        "  movies_df = pd.read_csv(dataset_path + '/movies.csv')\n",
        "  # choose between the whole rating file and the custom dataframe\n",
        "  if(target_df is None):\n",
        "    ratings_df = pd.read_csv(dataset_path + \"/ratings.csv\")\n",
        "  else:\n",
        "    ratings_df = target_df\n",
        "    movies_df = movies_df.rename(columns={'movieId':'item'})\n",
        "    item_column_name = 'item'\n",
        "\n",
        "  # make sure only rated movies are being represented\n",
        "  movies_df = movies_df[movies_df[item_column_name].isin(ratings_df[item_column_name].unique())]\n",
        "  movies_df['genres'] = movies_df['genres'].str.split('|')\n",
        "\n",
        "  # one hot encoding\n",
        "  X = vect.fit_transform(movies_df['genres'].str.join(' ')).toarray()\n",
        "\n",
        "  return X.astype(np.float32)\n",
        "\n",
        "# constructs a normalized genre rating frequency vector embedding for each user\n",
        "def get_genre_user_embeddings(dataset_path, target_df=None):\n",
        "\n",
        "  vect = CountVectorizer()\n",
        "\n",
        "  item_column_name = 'movieId'\n",
        "  user_column_name = 'userId'\n",
        "\n",
        "  # merge ratings with movie info dataframes\n",
        "  movies_df = pd.read_csv(dataset_path + \"/movies.csv\")\n",
        "  # choose between the whole rating file and the custom dataframe\n",
        "  if(target_df is None):\n",
        "    ratings_df = pd.read_csv(dataset_path + \"/ratings.csv\")\n",
        "  else:\n",
        "    ratings_df = target_df\n",
        "    movies_df = movies_df.rename(columns={'movieId':'item'})\n",
        "    # adjusted to given dataframe, merged by item and user (renamed item and user ID)\n",
        "    item_column_name = 'item'\n",
        "    user_column_name = 'user'\n",
        "\n",
        "  merged_df = pd.merge(movies_df, ratings_df, on=item_column_name)\n",
        "  # add one hot encoding for each movie\n",
        "  merged_df['genres'] = merged_df['genres'].str.split('|')\n",
        "  movie_one_hot_encoding = vect.fit_transform(merged_df['genres'].str.join(' '))\n",
        "  merged_df['encoding'] = movie_one_hot_encoding.toarray().tolist()\n",
        "\n",
        "  # aggregate movie one hot vectors and normalize frequency embeddings\n",
        "  user_grouping = merged_df.groupby(by=user_column_name)[['encoding']].agg(sum_column_lists)\n",
        "  user_grouping['encoding'] = user_grouping['encoding'].apply(lambda x : np.array(x, dtype=float) / float(max(x)))\n",
        "  user_grouping = np.stack(user_grouping['encoding'], axis=0)\n",
        "\n",
        "  return user_grouping.astype(np.float32)\n",
        "\n",
        "\n",
        "class MetadataInfo:\n",
        "  def __init__(self, user_embeddings_input=True, item_embeddings_input=True, user_embeddings=None, item_embeddings=None):\n",
        "\n",
        "    # for checking if embeddings should be passed as feature or embeddings matrix\n",
        "    self.user_embeddings_input = user_embeddings_input\n",
        "    self.item_embeddings_input = item_embeddings_input\n",
        "    # function used to construct user/item embeddings\n",
        "    self.user_embeddings = user_embeddings\n",
        "    self.item_embeddings = item_embeddings\n",
        "\n",
        "    # embeddings of the current folding of the dataset\n",
        "    self.current_item_embeddings = None\n",
        "    self.current_user_embeddings = None\n",
        "\n",
        "  # returns true if embeddings should be passed as embedding array\n",
        "  def user_vectors_as_embeddings(self):\n",
        "    return self.user_embeddings_input\n",
        "\n",
        "  def item_vectors_as_embeddings(self):\n",
        "    return self.item_embeddings_input\n",
        "\n",
        "  def pretrain_for_user(self):\n",
        "    return (self.user_embeddings is not None)\n",
        "\n",
        "  def pretrain_for_item(self):\n",
        "    return (self.item_embeddings is not None)\n"
      ],
      "execution_count": null,
      "outputs": []
    },
    {
      "cell_type": "markdown",
      "metadata": {
        "id": "j0ORRnPEegMd"
      },
      "source": [
        "We are initializing a new recommender that will be used during our experimentation with the custom embeddings that will be feeding to the LightFM model either in the form of pretrained embeddings or feature (weight) arrays. All the training and evaluation process is taking place using the Bayesian Ranking Metric for error minimization, as it seems to not only decrease AUC error, but also increase recommendation quality metrics like cumulative gain and reciprocal rank."
      ]
    },
    {
      "cell_type": "code",
      "metadata": {
        "id": "EH_6fTQSC7Bd"
      },
      "source": [
        "experimental_recommender = Recommendation_System(algorithms_constructors, datasets_paths, metric_constructors)"
      ],
      "execution_count": null,
      "outputs": []
    },
    {
      "cell_type": "markdown",
      "metadata": {
        "id": "0_CUYqY8SOlF"
      },
      "source": [
        "In this cell we will producing the item and user one hot/frequency embeddings that will be then passed seperately or together to the LightFM model, to check the effect that basic, pretrained embeddings will have on the convergence of the system and the final recommendation scores"
      ]
    },
    {
      "cell_type": "code",
      "metadata": {
        "id": "wYe5EgIqLE2k"
      },
      "source": [
        "# get user and item embeddings for each reviewer and movie\n",
        "item_embeddings =  get_genre_movie_embeddings(ml_100k_dataset_path)\n",
        "user_embeddings = get_genre_user_embeddings(ml_100k_dataset_path)\n",
        "# get the size of the embedding\n",
        "n_components = user_embeddings.shape[1]"
      ],
      "execution_count": null,
      "outputs": []
    },
    {
      "cell_type": "markdown",
      "metadata": {
        "id": "u4ExNEEqf_To"
      },
      "source": [
        "### (3.7.1) Item Embeddings Only"
      ]
    },
    {
      "cell_type": "markdown",
      "metadata": {
        "id": "T27t5EkEgFRC"
      },
      "source": [
        "In this cell we will be running a LightFM experiment using only the one hot encoding pretrained embeddings for items, user embeddings will be infered during training time. The custom embeddings we are feeding are pretty straighforward and don't contain a lot of information, which results in worse starting value distribution, leading to worse final results than in the case of random initialization of the embeddings."
      ]
    },
    {
      "cell_type": "code",
      "metadata": {
        "colab": {
          "base_uri": "https://localhost:8080/"
        },
        "id": "Kf0SroCnRUoC",
        "outputId": "3fd269d5-7a41-425b-ff03-9aef16958635"
      },
      "source": [
        "# pretrained embeddings will be used only for items\n",
        "# user embeddings are following the default LightFM policy and initialized randomly\n",
        "itemOnlyMetadata = MetadataInfo(True, True, None, [[item_embeddings]])\n",
        "\n",
        "item_embeddings_results = experimental_recommender.conduct_experiment(algorithm='LightFM',dataset='ML-100K',folding_strategy=folding_strategy, epochs=20, recommend=True, recommendations_num=30, metadata=itemOnlyMetadata, no_components=24, loss = 'bpr')\n",
        "item_embeddings_evaluations = experimental_recommender.evaluate_recommendations(recommendation_results=item_embeddings_results)"
      ],
      "execution_count": null,
      "outputs": [
        {
          "output_type": "stream",
          "text": [
            "Average  Precision :  0.12568306010928987\n",
            "Average  Recall :  0.20947501207364588\n",
            "Average  Reciprocal_Rank :  0.4604295302431676\n",
            "Average  nDCG :  0.18631810310063124\n"
          ],
          "name": "stdout"
        }
      ]
    },
    {
      "cell_type": "markdown",
      "metadata": {
        "id": "tcZLC0LpoSDV"
      },
      "source": [
        "### (3.7.2) User Embeddings Only"
      ]
    },
    {
      "cell_type": "markdown",
      "metadata": {
        "id": "bnt5EA13oXd_"
      },
      "source": [
        "In this cell we will be running a LightFM experiment using only the genre rating frequency user embeddings. These vectors express a general tendency of each user, giving us tangible information about the genres he prefers the most. This starting value distribution seems to show better convergence than the initial, random one, leading to better recommendation quality scores."
      ]
    },
    {
      "cell_type": "code",
      "metadata": {
        "colab": {
          "base_uri": "https://localhost:8080/"
        },
        "id": "NGRt3-VISnpl",
        "outputId": "2358d4f7-b225-45bb-a653-28f751c6964b"
      },
      "source": [
        "# pretrained embeddings will be used only for items\n",
        "# user embeddings are following the default LightFM policy and initialized randomly\n",
        "userOnlyMetadata = MetadataInfo(True, True, [[user_embeddings]], None)\n",
        "\n",
        "user_embeddings_results = experimental_recommender.conduct_experiment(algorithm='LightFM',dataset='ML-100K',folding_strategy=folding_strategy, epochs=20, recommend=True, recommendations_num=30, metadata=userOnlyMetadata, no_components=24, loss = 'bpr')\n",
        "user_embeddings_evaluations = experimental_recommender.evaluate_recommendations(recommendation_results=user_embeddings_results)"
      ],
      "execution_count": null,
      "outputs": [
        {
          "output_type": "stream",
          "text": [
            "Average  Precision :  0.14743169398907113\n",
            "Average  Recall :  0.2472786905853036\n",
            "Average  Reciprocal_Rank :  0.48854008452829617\n",
            "Average  nDCG :  0.22085884374431156\n"
          ],
          "name": "stdout"
        }
      ]
    },
    {
      "cell_type": "markdown",
      "metadata": {
        "id": "8uNhP24Ho1Cv"
      },
      "source": [
        "### (3.7.3) User & Item Embeddings"
      ]
    },
    {
      "cell_type": "markdown",
      "metadata": {
        "id": "Vt3aDkl-pMHO"
      },
      "source": [
        "In this cell we will be running a LightFM experiment using both custom user and item embeddings. This approach seems to behave the worst, getting worse scores than the exclusive user/item pretrained embeddings model initialization."
      ]
    },
    {
      "cell_type": "code",
      "metadata": {
        "colab": {
          "base_uri": "https://localhost:8080/"
        },
        "id": "YCRrIMbkTe1h",
        "outputId": "705d40cd-c7ac-4079-c9c7-5a3868f1432c"
      },
      "source": [
        "# pretrained embeddings will be used only for items\n",
        "# user embeddings are following the default LightFM policy and initialized randomly\n",
        "bothEmbeddingMetadata = MetadataInfo(True, True, [[user_embeddings]], [[item_embeddings]])\n",
        "\n",
        "hybrid_embeddings_results = experimental_recommender.conduct_experiment(algorithm='LightFM',dataset='ML-100K',folding_strategy=folding_strategy, epochs=20, recommend=True, recommendations_num=30, metadata=bothEmbeddingMetadata, no_components=24, loss = 'bpr')\n",
        "hybrid_embeddings_evaluations = experimental_recommender.evaluate_recommendations(recommendation_results=hybrid_embeddings_results)"
      ],
      "execution_count": null,
      "outputs": [
        {
          "output_type": "stream",
          "text": [
            "Average  Precision :  0.11038251366120243\n",
            "Average  Recall :  0.19207439413142843\n",
            "Average  Reciprocal_Rank :  0.3750817847098318\n",
            "Average  nDCG :  0.16581656379531437\n"
          ],
          "name": "stdout"
        }
      ]
    },
    {
      "cell_type": "markdown",
      "metadata": {
        "id": "NOns_ddMT5ZV"
      },
      "source": [
        "### (3.7.4) Embeddings as feature matrices"
      ]
    },
    {
      "cell_type": "markdown",
      "metadata": {
        "id": "7xVYx89ET_32"
      },
      "source": [
        "In this section we will passing the one hot genre embeddings of the movies as feature matrices, allowing LightFM model to produce the corresponding genre embeddings, so the final movie can be finally represented by the sum of the feature vectors of the genres"
      ]
    },
    {
      "cell_type": "code",
      "metadata": {
        "id": "VcPWeIYzdc8x"
      },
      "source": [
        "# store both train and test weight matrix embeddings in list of lists (every sublist represents a fold)\n",
        "user_embeddings_csr = sp.csr_matrix(user_embeddings)\n",
        "item_embeddings_csr = sp.csr_matrix(item_embeddings)\n",
        "custom_user_embeddings = [[user_embeddings_csr,user_embeddings_csr]]\n",
        "custom_item_embeddings = [[item_embeddings_csr,item_embeddings_csr]]\n",
        "# initialize the metadata info object that will be fed into the recommender\n",
        "customMetadataInfo = MetadataInfo(True, False, None, custom_item_embeddings)"
      ],
      "execution_count": null,
      "outputs": []
    },
    {
      "cell_type": "code",
      "metadata": {
        "colab": {
          "base_uri": "https://localhost:8080/"
        },
        "id": "MiHz4QPsic1B",
        "outputId": "d6406a9d-2120-49e7-c08e-2ae6e12f7fca"
      },
      "source": [
        "weight_embeddings_results = experimental_recommender.conduct_experiment(algorithm='LightFM',dataset='ML-100K',folding_strategy=folding_strategy, epochs=20, recommend=True, recommendations_num=30, metadata=customMetadataInfo, no_components=24, loss = 'bpr')\n",
        "weight_embeddings_evaluations = experimental_recommender.evaluate_recommendations(recommendation_results=weight_embeddings_results)"
      ],
      "execution_count": null,
      "outputs": [
        {
          "output_type": "stream",
          "text": [
            "Average  Precision :  0.1052459016393445\n",
            "Average  Recall :  0.18161255875845633\n",
            "Average  Reciprocal_Rank :  0.36212457834750233\n",
            "Average  nDCG :  0.1535386831611433\n"
          ],
          "name": "stdout"
        }
      ]
    },
    {
      "cell_type": "markdown",
      "metadata": {
        "id": "FnMtP2_pnPAi"
      },
      "source": [
        "## (3.8) Multimodal Embeddings Recommendation"
      ]
    },
    {
      "cell_type": "markdown",
      "metadata": {
        "id": "JTkRJUvLnVea"
      },
      "source": [
        "In this section we will extract the titles of the movies for which we have custom audio embeddings. Then, we will costruct a subset of the original MovieLens dataset, containing only the ratings and their corresponding movies, for which we have custom embeddings. Afterwards, we will analyze lightFM scores, experiment with some early and late fusion techniques. Finally, we will compare the results of the different approaches and we will try to reach some conclusions, come up with a logical interpretation for gathered results."
      ]
    },
    {
      "cell_type": "markdown",
      "source": [
        "### (3.8.1) Auxiliarry Functions"
      ],
      "metadata": {
        "id": "mJi7c09Ibfyf"
      }
    },
    {
      "cell_type": "code",
      "metadata": {
        "id": "6NFv4JZjFN4D"
      },
      "source": [
        "# function takes as input the path to the movies csv\n",
        "# returns a list of movie names contained within this csv file\n",
        "def get_available_movie_titles_from_path(movies_path):\n",
        "  movies_csv = pd.read_csv(movies_path)\n",
        "  return list(movies_csv['title'])\n",
        "\n",
        "# returns a list of movies for which we have custom embeddings\n",
        "def get_embedded_movie_titles(embedded_movie_titles_path):\n",
        "  with open(embedded_movie_titles_path) as f:\n",
        "    embedded_movie_titles = f.read().splitlines()\n",
        "  return embedded_movie_titles\n",
        "\n",
        "# takes as input the names of the movies for which we have embeddings\n",
        "# and the actual movie names that appear in our dataset\n",
        "# returns only the embedded movie titles that are existent in the dataset\n",
        "def get_existing_movie_titles(embedded_movie_titles, available_movie_titles):\n",
        "  exist_in_available = list(x in available_movie_titles for x in embedded_movie_titles)\n",
        "  existent_movies_indices = [index for index, movie_exists in enumerate(exist_in_available) if movie_exists]\n",
        "  existent_movie_titles = [embedded_movie_titles[x] for x in existent_movies_indices]\n",
        "\n",
        "  return existent_movie_titles\n",
        "\n",
        "# returns a list of file names contained in the given path\n",
        "# with the requested suffix\n",
        "def get_path_file_names(path, suffix, sorted=True):\n",
        "  file_names = [os.path.join(path, file) for file in os.listdir(path) if file.endswith(suffix)]\n",
        "  if(sorted):\n",
        "    file_names.sort()\n",
        "  return file_names\n",
        "\n",
        "# returns the name of the file contained in the path\n",
        "# by default removes file suffix\n",
        "def path_to_file_name(path, remove_suffix=True):\n",
        "  file_name = os.path.basename(path)\n",
        "  if(remove_suffix):\n",
        "    file_name = os.path.splitext(file_name)[0]\n",
        "  return file_name\n",
        "\n",
        "# takes path as input\n",
        "# returns the contents of the file in path in a list\n",
        "# each element represents a line\n",
        "def file_to_list(path):\n",
        "  with open(path) as file:\n",
        "    lines = file.readlines()\n",
        "    lines = [line.rstrip() for line in lines]\n",
        "  return lines\n",
        "  \n",
        "# takes as input the path of the folder containing\n",
        "# the numpy arrays given by the MagCIL team\n",
        "# returns the titles of embedded movies in a list\n",
        "def get_embedded_movie_paths(numpy_path):\n",
        "  # get a list of the paths at which the files lists are contained\n",
        "  files_list_paths = get_path_file_names(numpy_path, 'files_list.npy', True)\n",
        "  embedded_movie_titles = np.array([])\n",
        "\n",
        "  # for each batch extract the paths of corresponding movie files\n",
        "  for files_list_path in files_list_paths:\n",
        "    # for each files list array, extract movie titles from their paths\n",
        "    current_movies_titles = np.load(files_list_path)\n",
        "    current_movies_titles = np.vectorize(path_to_file_name)(current_movies_titles)\n",
        "    embedded_movie_titles = np.append(embedded_movie_titles, current_movies_titles)\n",
        "\n",
        "  return list(embedded_movie_titles)\n",
        "\n",
        "# takes as input the path of the folder containing\n",
        "# the numpy arrays given by the MagCIL team\n",
        "# returns a single numpy array with movie embeddings\n",
        "def get_embedded_movie_embeddings(numpy_path):\n",
        "  # get the paths of the files that contain the embedded movies' embeddings\n",
        "  embedding_files = get_path_file_names(numpy_path, 'features.npy', True)\n",
        "\n",
        "  movie_embeddings = np.array([])\n",
        "  features_embeddings_list = []\n",
        "\n",
        "  # for each batch extract the movie embeddings and merge them\n",
        "  for embedding_file in embedding_files:\n",
        "    embeddings_batch = np.load(embedding_file)\n",
        "    features_embeddings_list.append(embeddings_batch)\n",
        "\n",
        "  return np.concatenate(features_embeddings_list, axis=0).astype(np.float32)\n",
        "\n",
        "# takes as input a list of embedded movies paths and a list of available movie titles\n",
        "# returns a list of triplet, containing the movie path, the corresponding best title candidate\n",
        "# and similarity score\n",
        "def find_path_title_couples(embedded_movie_paths, available_movie_titles):\n",
        "  path_title_couples = []\n",
        "\n",
        "  for embedded_movie_path in embedded_movie_paths:\n",
        "    candidate = process.extractOne(embedded_movie_path, available_movie_titles)\n",
        "    path_title_couple = (embedded_movie_path, candidate[0], candidate[1])\n",
        "    path_title_couples.append(path_title_couple)\n",
        "\n",
        "  return path_title_couples\n",
        "\n",
        "# stores string type items contained in the iteratable\n",
        "# into the file of the given path\n",
        "def iteratable_to_file(string_item_iteratable, path):\n",
        "  with open(path, 'w') as f:\n",
        "    for string_item in string_item_iteratable:\n",
        "        f.write(\"%s\\n\" % string_item)\n",
        "\n",
        "# takes as input an iteratable of items and target items\n",
        "# returns the indices of the items that are target items as well\n",
        "def get_contained_items_indices(items, target_items):\n",
        "  return [index for index, item in enumerate(items) if item in target_items]"
      ],
      "execution_count": null,
      "outputs": []
    },
    {
      "cell_type": "markdown",
      "source": [
        "### (3.8.2) Available Movie Extraction"
      ],
      "metadata": {
        "id": "csZuDIGBbk6C"
      }
    },
    {
      "cell_type": "markdown",
      "metadata": {
        "id": "THaLHjS72wFh"
      },
      "source": [
        "We initially traverse the numpy arrays that represents the lists of paths of the embedded movies. We extract these paths, we remove all the unecessary file extension suffixes up to the release year of the movie (we exclude it as well). Movies that start with a numeral (trimming output is empty) are curated by hand. We then run a fuzzy matching algorithm that uses Levenshtein Distance in order to find the movie titles that are more probable to refer to the trimmed movie paths. We then match the correct suggestions in a non-automatic way in order to ensure that we get the corresponding titles for all the movies that are available in the movielens dataset."
      ]
    },
    {
      "cell_type": "code",
      "metadata": {
        "id": "hh2UO61pB5GC"
      },
      "source": [
        "embedded_movie_paths = get_embedded_movie_paths(audio_numpy_path)\n",
        "embedded_movie_trimmed_paths = [(re.findall(r'(.*?)\\d+.*?$', embedded_movie_path))[0] for embedded_movie_path in embedded_movie_paths]"
      ],
      "execution_count": null,
      "outputs": []
    },
    {
      "cell_type": "code",
      "metadata": {
        "id": "CDYTRvxcEpc3"
      },
      "source": [
        "movielens_movie_titles = get_available_movie_titles_from_path(ml_100k_dataset_path + \"/movies.csv\")"
      ],
      "execution_count": null,
      "outputs": []
    },
    {
      "cell_type": "code",
      "metadata": {
        "id": "hyhH12LFKVNO"
      },
      "source": [
        "path_title_couples = find_path_title_couples(embedded_movie_trimmed_paths, movielens_movie_titles)"
      ],
      "execution_count": null,
      "outputs": []
    },
    {
      "cell_type": "code",
      "metadata": {
        "id": "Bx9X8RdTAJe3",
        "colab": {
          "base_uri": "https://localhost:8080/"
        },
        "outputId": "337bd52d-34ef-45c4-bce0-165917e4fcf8"
      },
      "source": [
        "path_title_couples"
      ],
      "execution_count": null,
      "outputs": [
        {
          "output_type": "execute_result",
          "data": {
            "text/plain": [
              "[('', 'Toy Story (1995)', 0),\n",
              " ('', 'Toy Story (1995)', 0),\n",
              " ('A.Good.Day.to.Die.Hard.', 'Good Day to Die Hard, A (2013)', 95),\n",
              " ('After.Earth.', 'After Earth (2013)', 90),\n",
              " ('Aliens vs Predator ', 'People vs. Larry Flynt, The (1996)', 86),\n",
              " (\"Assassin's.Creed.\", \"Assassin's Creed (2016)\", 95),\n",
              " ('Bad.teacher.', 'Bad Teacher (2011)', 90),\n",
              " ('Batman.Forever.', 'Batman Forever (1995)', 95),\n",
              " ('Battle.Los.Angeles.', 'Battle: Los Angeles (2011)', 95),\n",
              " ('Battleship.', 'Battleship Potemkin (1925)', 90),\n",
              " ('Charlies.Angels.', 'Angels and Insects (1995)', 86),\n",
              " ('Clash of the Titans (', 'Clash of the Titans (1981)', 95),\n",
              " ('Fantastic Four ', 'Fantastic Four (2005)', 95),\n",
              " ('G.I..Joe_.Retaliation.', 'I.Q. (1994)', 86),\n",
              " ('Ghost.Rider.', 'Ghost Rider (2007)', 90),\n",
              " ('Ghostbusters.', 'Ghostbusters (a.k.a. Ghost Busters) (1984)', 90),\n",
              " ('Godzilla.', 'Godzilla (1998)', 90),\n",
              " ('Green.Lantern.', 'Green Lantern (2011)', 95),\n",
              " ('Grown.Ups.', 'Grown Ups (2010)', 90),\n",
              " ('Hulk.', 'Hulk (2003)', 90),\n",
              " ('Jupiter.Ascending.', 'Jupiter Ascending (2015)', 95),\n",
              " ('Jurassic.Park.III.', 'Jurassic Park III (2001)', 95),\n",
              " ('Lara.Croft.Tomb.Raider.', 'Lara Croft: Tomb Raider (2001)', 95),\n",
              " ('Noah.', 'Noah (2014)', 90),\n",
              " ('Percy.Jackson.And.The.Olympians.The.Lightning.Thief.',\n",
              "  'Percy Jackson & the Olympians: The Lightning Thief (2010)',\n",
              "  91),\n",
              " ('Planet.of.the.Apes.', 'Planet of the Apes (1968)', 95),\n",
              " ('Teenage.Mutant.Ninja.Turtles.', 'Teenage Mutant Ninja Turtles (1990)', 95),\n",
              " ('The.Hangover.Part.III.', 'Hangover Part III, The (2013)', 95),\n",
              " ('The.Happening.', 'Father of the Bride Part II (1995)', 86),\n",
              " ('The.Twilight.Saga.Breaking.Dawn.Part.',\n",
              "  'Twilight Saga: Breaking Dawn - Part 1, The (2011)',\n",
              "  95),\n",
              " ('The.Twilight.Saga.Breaking.Dawn.Part.',\n",
              "  'Twilight Saga: Breaking Dawn - Part 1, The (2011)',\n",
              "  95),\n",
              " ('The.Twilight.Saga.New.Moon.', 'Twilight Saga: New Moon, The (2009)', 95),\n",
              " ('Twilight.Saga.', 'Twilight Saga: New Moon, The (2009)', 90),\n",
              " ('Twilight.Saga.Eclipse.', 'Twilight (1998)', 86),\n",
              " ('Wrath.of.the.Titans.', 'Wrath of the Titans (2012)', 95),\n",
              " ('You Dont Mess With The Zohan ', \"You Don't Mess with the Zohan (2008)\", 89),\n",
              " ('fantastic.four.rise.of.the.silver.surfer.',\n",
              "  'Fantastic Four: Rise of the Silver Surfer (2007)',\n",
              "  95),\n",
              " ('', 'Toy Story (1995)', 0),\n",
              " ('', 'Toy Story (1995)', 0),\n",
              " ('', 'Toy Story (1995)', 0),\n",
              " ('', 'Toy Story (1995)', 0),\n",
              " ('', 'Toy Story (1995)', 0),\n",
              " ('Alien (', 'Aliens (1986)', 90),\n",
              " ('Aliens (', 'Aliens (1986)', 90),\n",
              " ('Amadeus (', 'Amadeus (1984)', 90),\n",
              " ('American Beauty (', 'American Beauty (1999)', 95),\n",
              " ('American History X (', 'American History X (1998)', 95),\n",
              " ('Anatomy of a Murder (', 'Anatomy of a Murder (1959)', 95),\n",
              " ('Apocalypse Now (', 'Apocalypse Now (1979)', 95),\n",
              " ('Avengers, The (', 'Avengers, The (1998)', 95),\n",
              " ('Back to the Future (', 'Back to the Future (1985)', 95),\n",
              " ('Back to the Future Part II (', 'Back to the Future Part II (1989)', 95),\n",
              " ('Back to the Future Part III (', 'Back to the Future Part III (1990)', 95),\n",
              " ('Batman Begins (', 'Batman Begins (2005)', 95),\n",
              " ('Beautiful Mind, A (', 'Beautiful Mind, A (2001)', 95),\n",
              " ('Before Sunrise (', 'Before Sunrise (1995)', 95),\n",
              " ('Big Fish (', 'Big Fish (2003)', 90),\n",
              " ('Big Lebowski, The (', 'Big Lebowski, The (1998)', 95),\n",
              " ('Blade Runner (', 'Blade Runner (1982)', 90),\n",
              " ('Boot, Das (Boat, The) (', 'Boot, Das (Boat, The) (1981)', 95),\n",
              " ('Casablanca (', 'Casablanca (1942)', 90),\n",
              " ('Casino (', 'Casino (1995)', 90),\n",
              " ('Chinatown (', 'Chinatown (1974)', 90),\n",
              " ('Cinema Paradiso (Nuovo cinema Paradiso) (',\n",
              "  'Cinema Paradiso (Nuovo cinema Paradiso) (1989)',\n",
              "  95),\n",
              " ('Citizen Kane (', 'Citizen Kane (1941)', 90),\n",
              " ('City of God (Cidade de Deus) (', 'City of God (Cidade de Deus) (2002)', 95),\n",
              " ('Clockwork Orange, A (', 'Clockwork Orange, A (1971)', 95),\n",
              " ('Control (', 'Speed 2: Cruise Control (1997)', 90),\n",
              " ('Cool Hand Luke (', 'Cool Hand Luke (1967)', 95),\n",
              " ('Dark Knight Rises, The (', 'Dark Knight Rises, The (2012)', 95),\n",
              " ('Deer Hunter, The (', 'Deer Hunter, The (1978)', 95),\n",
              " ('Departed, The (', 'Departed, The (2006)', 95),\n",
              " ('Die Hard (', 'Die Hard: With a Vengeance (1995)', 90),\n",
              " ('Django Unchained (', 'Django Unchained (2012)', 95),\n",
              " ('Dolce Vita, La (', 'Dolce Vita, La (1960)', 95),\n",
              " ('Donnie Darko (', 'Donnie Darko (2001)', 90),\n",
              " ('Dr. Strangelove or How I Learned to Stop Worrying and Love the Bomb (',\n",
              "  'Dr. Strangelove or: How I Learned to Stop Worrying and Love the Bomb (1964)',\n",
              "  95),\n",
              " ('Elephant Man, The (', 'Elephant Man, The (1980)', 95),\n",
              " ('Elite Squad The Enemy Within (Tropa de Elite ',\n",
              "  'Elite Squad: The Enemy Within (Tropa de Elite 2 - O Inimigo Agora É Outro) (2010)',\n",
              "  88),\n",
              " ('Equilibrium (', 'Equilibrium (2002)', 90),\n",
              " ('Evil Dead (', 'Evil Dead II (Dead by Dawn) (1987)', 90),\n",
              " ('A.Serious.Man.',\n",
              "  'Shanghai Triad (Yao a yao yao dao waipo qiao) (1995)',\n",
              "  86),\n",
              " ('Blood Simple.', 'Blood Simple (1984)', 90),\n",
              " ('Burn.After.Reading.', 'Burn After Reading (2008)', 95),\n",
              " ('Hail.Caesar.', 'Little Caesar (1931)', 86),\n",
              " ('Inside.Llewyn.Davis.', 'Inside Llewyn Davis (2013)', 95),\n",
              " ('Intolerable.Cruelty.', 'Intolerable Cruelty (2003)', 95),\n",
              " ('O.Brother.Where.Art.Thou.', 'O Brother, Where Art Thou? (2000)', 95),\n",
              " ('The.Ballad.of.Buster.Scruggs.',\n",
              "  'City of Lost Children, The (Cité des enfants perdus, La) (1995)',\n",
              "  86),\n",
              " ('The.Man.Who.Wasnt.There.',\n",
              "  'City of Lost Children, The (Cité des enfants perdus, La) (1995)',\n",
              "  86),\n",
              " ('True.Grit.', 'True Grit (1969)', 90),\n",
              " ('[ www.UsaBit.com ] - The Hudsucker Proxy (',\n",
              "  'City of Lost Children, The (Cité des enfants perdus, La) (1995)',\n",
              "  86),\n",
              " ('Blue.Velvet.', 'Blue Velvet (1986)', 90),\n",
              " ('Dune.', 'Dune (1984)', 90),\n",
              " ('Eraserhead.', 'Eraserhead (1977)', 90),\n",
              " ('Inland.Empire.', 'Inland Empire (2006)', 95),\n",
              " ('Lost.Highway.', 'Lost Highway (1997)', 90),\n",
              " ('Mulholland Drive (', 'Mulholland Drive (2001)', 95),\n",
              " ('The.Straight.Story.', 'Straight Story, The (1999)', 95),\n",
              " ('Twin Peaks Fire Walk with Me - David Lynch Remastered ',\n",
              "  'Flirting With Disaster (1996)',\n",
              "  86),\n",
              " ('Wild.at.Heart.', 'Wild at Heart (1990)', 95),\n",
              " ('I Am Legend (', 'I Am Legend (2007)', 90),\n",
              " ('I Am Legend (', 'I Am Legend (2007)', 90),\n",
              " (\"I'm Not There (\", \"I'm Not There (2007)\", 95),\n",
              " (\"I'm Not There (\", \"I'm Not There (2007)\", 95),\n",
              " (\"I'm Still Here (\", \"I'm Still Here (2010)\", 95),\n",
              " (\"I'm Still Here (\", \"I'm Still Here (2010)\", 95),\n",
              " ('In the Mood For Love (Fa yeung nin wa) (',\n",
              "  'In the Mood For Love (Fa yeung nin wa) (2000)',\n",
              "  95),\n",
              " ('Inception (', 'Inception (2010)', 90),\n",
              " ('Indiana Jones and the Last Crusade (',\n",
              "  'Indiana Jones and the Last Crusade (1989)',\n",
              "  95),\n",
              " ('Inglourious Basterds (', 'Inglourious Basterds (2009)', 95),\n",
              " ('Intouchables (', 'Intouchables (2011)', 90),\n",
              " ('Lawrence of Arabia (', 'Lawrence of Arabia (1962)', 95),\n",
              " ('Life Is Rosy (a.k.a. Life Is Beautiful) (Vie est belle, La) (',\n",
              "  'Seven (a.k.a. Se7en) (1995)',\n",
              "  86),\n",
              " ('Life of Pi (', 'Life of Pi (2012)', 90),\n",
              " ('Lion King, The (', 'Lion King, The (1994)', 95),\n",
              " ('Lives of Others, The (Das leben der Anderen) (',\n",
              "  'Lives of Others, The (Das leben der Anderen) (2006)',\n",
              "  95),\n",
              " ('Lock, Stock & Two Smoking Barrels (',\n",
              "  'Lock, Stock & Two Smoking Barrels (1998)',\n",
              "  95),\n",
              " ('Lord of the Rings The Fellowship of the Ring, The (',\n",
              "  'Lord of the Rings: The Fellowship of the Ring, The (2001)',\n",
              "  95),\n",
              " ('Lord of the Rings The Return of the King, The (',\n",
              "  'Lord of the Rings: The Return of the King, The (2003)',\n",
              "  95),\n",
              " ('Lord of the Rings The Two Towers, The (',\n",
              "  'Lord of the Rings: The Two Towers, The (2002)',\n",
              "  95),\n",
              " ('M (', 'M (1931)', 90),\n",
              " ('Machinist, The (Maquinista, El) (',\n",
              "  'City of Lost Children, The (Cité des enfants perdus, La) (1995)',\n",
              "  86),\n",
              " ('Matrix Reloaded, The (', 'Matrix Reloaded, The (2003)', 95),\n",
              " ('Matrix, The (', 'Matrix, The (1999)', 90),\n",
              " ('Memento (', 'Memento (2000)', 90),\n",
              " ('Million Dollar Baby (', 'Million Dollar Baby (2004)', 95),\n",
              " ('North by Northwest (', 'North by Northwest (1959)', 95),\n",
              " (\"Once Upon a Time in the West (C'era una volta il West) (\",\n",
              "  \"Once Upon a Time in the West (C'era una volta il West) (1968)\",\n",
              "  95),\n",
              " (\"One Flew Over the Cuckoo's Nest (\",\n",
              "  \"One Flew Over the Cuckoo's Nest (1975)\",\n",
              "  95),\n",
              " ('Paths of Glory (', 'Paths of Glory (1957)', 95),\n",
              " ('Pi (', 'Piano, The (1993)', 90),\n",
              " (\"Pirates of the Caribbean At World's End (\",\n",
              "  \"Pirates of the Caribbean: At World's End (2007)\",\n",
              "  95),\n",
              " (\"Pirates of the Caribbean Dead Man's Chest (\",\n",
              "  \"Pirates of the Caribbean: Dead Man's Chest (2006)\",\n",
              "  95),\n",
              " ('Pirates of the Caribbean The Curse of the Black Pearl (',\n",
              "  'Pirates of the Caribbean: The Curse of the Black Pearl (2003)',\n",
              "  95),\n",
              " ('Prestige, The (', 'Prestige, The (2006)', 95),\n",
              " ('Princess Bride, The (', 'Princess Bride, The (1987)', 95),\n",
              " ('Princess Mononoke (Mononoke-hime) (',\n",
              "  'Princess Mononoke (Mononoke-hime) (1997)',\n",
              "  95),\n",
              " ('Psycho (', 'Psycho (1960)', 90),\n",
              " ('Pulp Fiction (', 'Pulp Fiction (1994)', 90),\n",
              " ('Raiders of the Lost Ark (Indiana Jones and the Raiders of the Lost Ark) (',\n",
              "  'Raiders of the Lost Ark (Indiana Jones and the Raiders of the Lost Ark) (1981)',\n",
              "  95),\n",
              " ('Ray (', 'Hairspray (1988)', 90),\n",
              " ('Rear Window (', 'Rear Window (1954)', 90),\n",
              " ('Reservoir Dogs (', 'Reservoir Dogs (1992)', 95),\n",
              " ('Resident Evil Retribution (', 'Resident Evil: Retribution (2012)', 95),\n",
              " ('Return of the Living Dead, The (',\n",
              "  'Return of the Living Dead, The (1985)',\n",
              "  95),\n",
              " ('Roman Holiday (', 'Roman Holiday (1953)', 95),\n",
              " ('Run Lola Run (Lola rennt) (', 'Run Lola Run (Lola rennt) (1998)', 95),\n",
              " ('Runaways, The (', 'Runaways, The (2010)', 95),\n",
              " ('Saving Private Ryan (', 'Saving Private Ryan (1998)', 95),\n",
              " ('Scarface (', 'Scarface (1983)', 90),\n",
              " (\"Schindler's List (\", \"Schindler's List (1993)\", 95),\n",
              " ('Secret in Their Eyes, The (El secreto de sus ojos) (',\n",
              "  'Secret in Their Eyes, The (El secreto de sus ojos) (2009)',\n",
              "  95),\n",
              " ('Seven (a.k.a. Se', 'Seven (a.k.a. Se7en) (1995)', 90),\n",
              " ('Seven Samurai (Shichinin no samurai) (',\n",
              "  'Seven Samurai (Shichinin no samurai) (1954)',\n",
              "  95),\n",
              " ('Shaun of the Dead (', 'Shaun of the Dead (2004)', 95),\n",
              " ('Shawshank Redemption, The (', 'Shawshank Redemption, The (1994)', 95),\n",
              " ('Shining, The (', 'The Shining (1997)', 95),\n",
              " ('Shutter Island (', 'Shutter Island (2010)', 95),\n",
              " ('Silence of the Lambs, The (', 'Silence of the Lambs, The (1991)', 95),\n",
              " ('Sin City (', 'Sin City (2005)', 90),\n",
              " ('Sixth Sense, The (', 'Sixth Sense, The (1999)', 95),\n",
              " ('Snatch (', 'Body Snatchers (1993)', 90),\n",
              " ('Spider-Man (', 'Spider-Man (2002)', 90),\n",
              " ('Spider-Man ', 'Spider-Man (2002)', 90),\n",
              " ('Spider-Man ', 'Spider-Man (2002)', 90),\n",
              " ('Spirited Away (Sen to Chihiro no kamikakushi) (',\n",
              "  'Spirited Away (Sen to Chihiro no kamikakushi) (2001)',\n",
              "  95),\n",
              " ('Star Trek (', 'Star Trek: Generations (1994)', 90),\n",
              " ('Star Wars Episode I - The Phantom Menace (',\n",
              "  'Star Wars: Episode I - The Phantom Menace (1999)',\n",
              "  95),\n",
              " ('Star Wars Episode II - Attack of the Clones (',\n",
              "  'Star Wars: Episode II - Attack of the Clones (2002)',\n",
              "  95),\n",
              " ('Star Wars Episode III - Revenge of the Sith (',\n",
              "  'Star Wars: Episode III - Revenge of the Sith (2005)',\n",
              "  95),\n",
              " ('Star Wars Episode IV - A New Hope (',\n",
              "  'Star Wars: Episode IV - A New Hope (1977)',\n",
              "  95),\n",
              " ('Star Wars Episode V - The Empire Strikes Back (',\n",
              "  'Star Wars: Episode V - The Empire Strikes Back (1980)',\n",
              "  95),\n",
              " ('Star Wars Episode VI - Return of the Jedi (',\n",
              "  'Star Wars: Episode VI - Return of the Jedi (1983)',\n",
              "  95),\n",
              " ('Sting, The (', 'Sting, The (1973)', 90),\n",
              " ('Strangers on a Train (', 'Strangers on a Train (1951)', 95),\n",
              " ('Taxi Driver (', 'Taxi Driver (1976)', 90),\n",
              " ('Terminator ', 'Terminator 2: Judgment Day (1991)', 90),\n",
              " ('Terminator ', 'Terminator 2: Judgment Day (1991)', 90),\n",
              " ('Terminator Salvation (', 'Terminator Salvation (2009)', 95),\n",
              " ('Terminator, The (', 'Terminator, The (1984)', 95),\n",
              " ('To Kill a Mockingbird (', 'To Kill a Mockingbird (1962)', 95),\n",
              " ('Toy Story (', 'Toy Story (1995)', 90),\n",
              " ('Toy Story ', 'Toy Story (1995)', 90),\n",
              " ('Trainspotting (', 'Trainspotting (1996)', 95),\n",
              " ('Truman Show, The (', 'Truman Show, The (1998)', 95),\n",
              " ('Twelve Monkeys (a.k.a. ', 'Twelve Monkeys (a.k.a. 12 Monkeys) (1995)', 90),\n",
              " ('Usual Suspects, The (', 'Usual Suspects, The (1995)', 95),\n",
              " ('V for Vendetta (', 'V for Vendetta (2006)', 95),\n",
              " ('Vertigo (', 'Vertigo (1958)', 90),\n",
              " ('Vie en Rose, La (Môme, La) (', 'Vie en Rose, La (Môme, La) (2007)', 95),\n",
              " ('WALL·E (', 'Bread and Chocolate (Pane e cioccolata) (1973)', 86),\n",
              " ('Walk Hard The Dewey Cox Story (',\n",
              "  'Walk Hard: The Dewey Cox Story (2007)',\n",
              "  95),\n",
              " ('Walk the Line (', 'Walk the Line (2005)', 95),\n",
              " ('Warm Bodies (', 'Warm Bodies (2013)', 90),\n",
              " ('Warrior (', 'Once Were Warriors (1994)', 90),\n",
              " (\"Who's Afraid of Virginia Woolf (\",\n",
              "  \"Who's Afraid of Virginia Woolf? (1966)\",\n",
              "  95),\n",
              " ('Wizard of Oz, The (', 'Wizard of Oz, The (1939)', 95),\n",
              " ('Wolf of Wall Street, The (', 'Wolf of Wall Street, The (2013)', 95)]"
            ]
          },
          "metadata": {},
          "execution_count": 283
        }
      ]
    },
    {
      "cell_type": "markdown",
      "metadata": {
        "id": "IxUHC1avh5Ca"
      },
      "source": [
        "This is the list of movie titles that have been extracted from the initial paths:"
      ]
    },
    {
      "cell_type": "code",
      "metadata": {
        "id": "hidCZy2q0At8"
      },
      "source": [
        "extracted_movie_titles = file_to_list(audio_extracted_movie_titles_path)"
      ],
      "execution_count": null,
      "outputs": []
    },
    {
      "cell_type": "code",
      "metadata": {
        "colab": {
          "base_uri": "https://localhost:8080/"
        },
        "id": "Xl3wCaFVi0dl",
        "outputId": "b504b5fe-4cb6-4e1f-b1c4-03f62a2668be"
      },
      "source": [
        "extracted_movie_titles"
      ],
      "execution_count": null,
      "outputs": [
        {
          "output_type": "execute_result",
          "data": {
            "text/plain": [
              "['2 Fast 2 Furious (Fast and the Furious 2, The) (2003)',\n",
              " '2012 (2009)',\n",
              " 'Good Day to Die Hard, A (2013)',\n",
              " 'After Earth (2013)',\n",
              " 'AVP: Alien vs. Predator (2004)',\n",
              " \"Assassin's Creed (2016)\",\n",
              " 'Bad Teacher (2011)',\n",
              " 'Batman Forever (1995)',\n",
              " 'Battle: Los Angeles (2011)',\n",
              " 'Battleship (2012)',\n",
              " \"Charlie's Angels (2000)\",\n",
              " 'Clash of the Titans (2010)',\n",
              " 'Fantastic Four (2005)',\n",
              " 'G.I. Joe: Retaliation (2013)',\n",
              " 'Ghost Rider (2007)',\n",
              " 'Ghostbusters (2016)',\n",
              " 'Godzilla (1998)',\n",
              " 'Green Lantern (2011)',\n",
              " 'Grown Ups (2010)',\n",
              " 'Hulk (2003)',\n",
              " 'Jupiter Ascending (2015)',\n",
              " 'Jurassic Park III (2001)',\n",
              " 'Lara Croft: Tomb Raider (2001)',\n",
              " 'Noah (2014)',\n",
              " 'Percy Jackson & the Olympians: The Lightning Thief (2010)',\n",
              " 'Planet of the Apes (2001)',\n",
              " 'Teenage Mutant Ninja Turtles (2014)',\n",
              " 'Hangover Part III, The (2013)',\n",
              " 'Happening, The (2008)',\n",
              " 'Twilight Saga: Breaking Dawn - Part 1, The (2011)',\n",
              " 'Twilight Saga: Breaking Dawn - Part 2, The (2012)',\n",
              " 'Twilight Saga: New Moon, The (2009)',\n",
              " 'Twilight (2008)',\n",
              " 'Twilight Saga: Eclipse, The (2010)',\n",
              " 'Wrath of the Titans (2012)',\n",
              " \"You Don't Mess with the Zohan (2008)\",\n",
              " 'Fantastic Four: Rise of the Silver Surfer (2007)',\n",
              " '12 Angry Men (1957)',\n",
              " '2001: A Space Odyssey (1968)',\n",
              " '24 Hour Party People (2002)',\n",
              " '400 Blows, The (Les quatre cents coups) (1959)',\n",
              " '8 Mile (2002)',\n",
              " 'Alien (1979)',\n",
              " 'Aliens (1986)',\n",
              " 'Amadeus (1984)',\n",
              " 'American Beauty (1999)',\n",
              " 'American History X (1998)',\n",
              " 'Anatomy of a Murder (1959)',\n",
              " 'Apocalypse Now (1979)',\n",
              " 'Avengers, The (2012)',\n",
              " 'Back to the Future (1985)',\n",
              " 'Back to the Future Part II (1989)',\n",
              " 'Back to the Future Part III (1990)',\n",
              " 'Batman Begins (2005)',\n",
              " 'Beautiful Mind, A (2001)',\n",
              " 'Before Sunrise (1995)',\n",
              " 'Big Fish (2003)',\n",
              " 'Big Lebowski, The (1998)',\n",
              " 'Blade Runner (1982)',\n",
              " 'Boot, Das (Boat, The) (1981)',\n",
              " 'Casablanca (1942)',\n",
              " 'Casino (1995)',\n",
              " 'Chinatown (1974)',\n",
              " 'Cinema Paradiso (Nuovo cinema Paradiso) (1989)',\n",
              " 'Citizen Kane (1941)',\n",
              " 'City of God (Cidade de Deus) (2002)',\n",
              " 'Clockwork Orange, A (1971)',\n",
              " 'Control (2007)',\n",
              " 'Cool Hand Luke (1967)',\n",
              " 'Dark Knight Rises, The (2012)',\n",
              " 'Deer Hunter, The (1978)',\n",
              " 'Departed, The (2006)',\n",
              " 'Die Hard (1988)',\n",
              " 'Django Unchained (2012)',\n",
              " 'Dolce Vita, La (1960)',\n",
              " 'Donnie Darko (2001)',\n",
              " 'Dr. Strangelove or: How I Learned to Stop Worrying and Love the Bomb (1964)',\n",
              " 'Elephant Man, The (1980)',\n",
              " 'Elite Squad: The Enemy Within (Tropa de Elite 2 - O Inimigo Agora É Outro) (2010)',\n",
              " 'Equilibrium (2002)',\n",
              " 'Evil Dead (2013)',\n",
              " 'Serious Man, A (2009)',\n",
              " 'Blood Simple (1984)',\n",
              " 'Burn After Reading (2008)',\n",
              " 'Hail, Caesar! (2016)',\n",
              " 'Inside Llewyn Davis (2013)',\n",
              " 'Intolerable Cruelty (2003)',\n",
              " 'O Brother, Where Art Thou? (2000)',\n",
              " 'The.Ballad.of.Buster.Scruggs.2018.HDRip.XviD.AC3-EVO[EtMovies]-eng(1)',\n",
              " \"Man Who Wasn't There, The (2001)\",\n",
              " 'True Grit (2010)',\n",
              " 'Hudsucker Proxy, The (1994)',\n",
              " 'Blue Velvet (1986)',\n",
              " 'Dune (1984)',\n",
              " 'Eraserhead (1977)',\n",
              " 'Inland Empire (2006)',\n",
              " 'Lost Highway (1997)',\n",
              " 'Mulholland Drive (2001)',\n",
              " 'Straight Story, The (1999)',\n",
              " 'Twin Peaks: Fire Walk with Me (1992)',\n",
              " 'Wild at Heart (1990)',\n",
              " 'I Am Legend (2007) (1)',\n",
              " 'I Am Legend (2007)',\n",
              " \"I'm Not There (2007) (1)\",\n",
              " \"I'm Not There (2007)\",\n",
              " \"I'm Still Here (2010) (1)\",\n",
              " \"I'm Still Here (2010)\",\n",
              " 'In the Mood For Love (Fa yeung nin wa) (2000)',\n",
              " 'Inception (2010)',\n",
              " 'Indiana Jones and the Last Crusade (1989)',\n",
              " 'Inglourious Basterds (2009)',\n",
              " 'Intouchables (2011)',\n",
              " 'Lawrence of Arabia (1962)',\n",
              " 'Life Is Rosy (a.k.a. Life Is Beautiful) (Vie est belle, La) (1987)',\n",
              " 'Life of Pi (2012)',\n",
              " 'Lion King, The (1994)',\n",
              " 'Lives of Others, The (Das leben der Anderen) (2006)',\n",
              " 'Lock, Stock & Two Smoking Barrels (1998)',\n",
              " 'Lord of the Rings: The Fellowship of the Ring, The (2001)',\n",
              " 'Lord of the Rings: The Return of the King, The (2003)',\n",
              " 'Lord of the Rings: The Two Towers, The (2002)',\n",
              " 'M (1931)',\n",
              " 'The Machinist (2004)',\n",
              " 'Matrix Reloaded, The (2003)',\n",
              " 'Matrix, The (1999)',\n",
              " 'Memento (2000)',\n",
              " 'Million Dollar Baby (2004)',\n",
              " 'North by Northwest (1959)',\n",
              " \"Once Upon a Time in the West (C'era una volta il West) (1968)\",\n",
              " \"One Flew Over the Cuckoo's Nest (1975)\",\n",
              " 'Paths of Glory (1957)',\n",
              " 'Pi (1998)',\n",
              " \"Pirates of the Caribbean: At World's End (2007)\",\n",
              " \"Pirates of the Caribbean: Dead Man's Chest (2006)\",\n",
              " 'Pirates of the Caribbean: The Curse of the Black Pearl (2003)',\n",
              " 'Prestige, The (2006)',\n",
              " 'Princess Bride, The (1987)',\n",
              " 'Princess Mononoke (Mononoke-hime) (1997)',\n",
              " 'Psycho (1960)',\n",
              " 'Pulp Fiction (1994)',\n",
              " 'Raiders of the Lost Ark (Indiana Jones and the Raiders of the Lost Ark) (1981)',\n",
              " 'Ray (2004)',\n",
              " 'Rear Window (1954)',\n",
              " 'Reservoir Dogs (1992)',\n",
              " 'Resident Evil: Retribution (2012)',\n",
              " 'Return of the Living Dead, The (1985)',\n",
              " 'Roman Holiday (1953)',\n",
              " 'Run Lola Run (Lola rennt) (1998)',\n",
              " 'Runaways, The (2010)',\n",
              " 'Saving Private Ryan (1998)',\n",
              " 'Scarface (1983)',\n",
              " \"Schindler's List (1993)\",\n",
              " 'Secret in Their Eyes, The (El secreto de sus ojos) (2009)',\n",
              " 'Seven (a.k.a. Se7en) (1995)',\n",
              " 'Seven Samurai (Shichinin no samurai) (1954)',\n",
              " 'Shaun of the Dead (2004)',\n",
              " 'Shawshank Redemption, The (1994)',\n",
              " 'The Shining (1997)',\n",
              " 'Shutter Island (2010)',\n",
              " 'Silence of the Lambs, The (1991)',\n",
              " 'Sin City (2005)',\n",
              " 'Sixth Sense, The (1999)',\n",
              " 'Snatch (2000)',\n",
              " 'Spider-Man (2002)',\n",
              " 'Spider-Man 2 (2004)',\n",
              " 'Spider-Man 3 (2007)',\n",
              " 'Spirited Away (Sen to Chihiro no kamikakushi) (2001)',\n",
              " 'Star Trek (2009)',\n",
              " 'Star Wars: Episode I - The Phantom Menace (1999)',\n",
              " 'Star Wars: Episode II - Attack of the Clones (2002)',\n",
              " 'Star Wars: Episode III - Revenge of the Sith (2005)',\n",
              " 'Star Wars: Episode IV - A New Hope (1977)',\n",
              " 'Star Wars: Episode V - The Empire Strikes Back (1980)',\n",
              " 'Star Wars: Episode VI - Return of the Jedi (1983)',\n",
              " 'Sting, The (1973)',\n",
              " 'Strangers on a Train (1951)',\n",
              " 'Taxi Driver (1976)',\n",
              " 'Terminator 2: Judgment Day (1991)',\n",
              " 'Terminator 3: Rise of the Machines (2003)',\n",
              " 'Terminator Salvation (2009)',\n",
              " 'Terminator, The (1984)',\n",
              " 'To Kill a Mockingbird (1962)',\n",
              " 'Toy Story (1995)',\n",
              " 'Toy Story 3 (2010)',\n",
              " 'Trainspotting (1996)',\n",
              " 'Truman Show, The (1998)',\n",
              " 'Twelve Monkeys (a.k.a. 12 Monkeys) (1995)',\n",
              " 'Usual Suspects, The (1995)',\n",
              " 'V for Vendetta (2006)',\n",
              " 'Vertigo (1958)',\n",
              " 'Vie en Rose, La (Môme, La) (2007)',\n",
              " 'WALL·E (2008)',\n",
              " 'Walk Hard: The Dewey Cox Story (2007)',\n",
              " 'Walk the Line (2005)',\n",
              " 'Warm Bodies (2013)',\n",
              " 'Warrior (2011)',\n",
              " \"Who's Afraid of Virginia Woolf? (1966)\",\n",
              " 'Wizard of Oz, The (1939)',\n",
              " 'Wolf of Wall Street, The (2013)']"
            ]
          },
          "metadata": {},
          "execution_count": 90
        }
      ]
    },
    {
      "cell_type": "markdown",
      "metadata": {
        "id": "rBxLIIJxi4ym"
      },
      "source": [
        "These are the movie titles that correspond to the initial movie paths that are not represented in the MovieLens Dataset. Only two movies, The Ballad of Buster Scruggs (2018) & Life Is Rosy (a.k.a. Life Is Beautiful) (Vie est belle, La) (1987) are not included in the MovieLens dataset. The remaining ones are duplicate path products and won't affect the dataset merging process, as they will be ignored. We save the titles of the movies for which we have the corresponding embedddings and they appear in the MovieLens Dataset."
      ]
    },
    {
      "cell_type": "code",
      "metadata": {
        "id": "11MsoHEi0aqS",
        "colab": {
          "base_uri": "https://localhost:8080/"
        },
        "outputId": "79058f56-448f-4ae1-c2da-aa90983f95be"
      },
      "source": [
        "extracted_movies_set = set(extracted_movie_titles)\n",
        "movielens_movies_set = set(movielens_movie_titles)\n",
        "# movies for which we both have the embeddings and they are included in the movielens dataset\n",
        "available_movies_set = set.intersection(extracted_movies_set,movielens_movies_set)\n",
        "# movies that are present only in the embedded set, unavailable in MovieLens dataset\n",
        "unavailable_movies_set = extracted_movies_set - movielens_movies_set\n",
        "\n",
        "extracted_movies_num = str(len(extracted_movies_set))\n",
        "available_movies_num = str(len(available_movies_set))\n",
        "\n",
        "print(available_movies_num + \"/\" + extracted_movies_num + \" of audio extracted movies are contained in MovieLens dataset\")\n",
        "print(\"The unavailable ones:\\n\")\n",
        "for unavailable_movie in unavailable_movies_set:\n",
        "  print(unavailable_movie)"
      ],
      "execution_count": null,
      "outputs": [
        {
          "output_type": "stream",
          "name": "stdout",
          "text": [
            "194/199 of audio extracted movies are contained in MovieLens dataset\n",
            "The unavailable ones:\n",
            "\n",
            "I Am Legend (2007) (1)\n",
            "The.Ballad.of.Buster.Scruggs.2018.HDRip.XviD.AC3-EVO[EtMovies]-eng(1)\n",
            "Life Is Rosy (a.k.a. Life Is Beautiful) (Vie est belle, La) (1987)\n",
            "I'm Still Here (2010) (1)\n",
            "I'm Not There (2007) (1)\n"
          ]
        }
      ]
    },
    {
      "cell_type": "markdown",
      "source": [
        "### (3.8.3) Saving Available Movie Info"
      ],
      "metadata": {
        "id": "AUC0X6Yhb7Wi"
      }
    },
    {
      "cell_type": "code",
      "metadata": {
        "id": "NOQHJWAH-e8m"
      },
      "source": [
        "# get the indices of embedded movies that are also available in MovieLens Dataset\n",
        "available_movie_indices = get_contained_items_indices(extracted_movie_titles, available_movies_set)"
      ],
      "execution_count": null,
      "outputs": []
    },
    {
      "cell_type": "code",
      "metadata": {
        "colab": {
          "base_uri": "https://localhost:8080/"
        },
        "id": "UlDDFbXv-kzV",
        "outputId": "83a5ac79-1181-4e33-822b-6fb2607ffca9"
      },
      "source": [
        "# saving the available, embedded movies' titles into a text file for later extraction\n",
        "available_movie_titles = [extracted_movie_titles[index] for index in available_movie_indices]\n",
        "iteratable_to_file(available_movie_titles, audio_available_movie_titles_path)\n",
        "\n",
        "print('Available, embedded movie titles stored!')"
      ],
      "execution_count": null,
      "outputs": [
        {
          "output_type": "stream",
          "name": "stdout",
          "text": [
            "Available, embedded movie titles stored!\n"
          ]
        }
      ]
    },
    {
      "cell_type": "code",
      "metadata": {
        "colab": {
          "base_uri": "https://localhost:8080/"
        },
        "id": "LT79ererxQET",
        "outputId": "9b45e7c9-d9d3-4706-dcfe-6e94cdadc032"
      },
      "source": [
        "# get the array containing all embeddings\n",
        "extracted_movie_embeddings = get_embedded_movie_embeddings(audio_numpy_path)\n",
        "available_movie_embeddings = extracted_movie_embeddings[available_movie_indices]\n",
        "np.save(audio_available_movie_embeddings_path, available_movie_embeddings)\n",
        "\n",
        "print('Available, embedded movie embeddings stored!')"
      ],
      "execution_count": null,
      "outputs": [
        {
          "output_type": "stream",
          "name": "stdout",
          "text": [
            "Available, embedded movie embeddings stored!\n"
          ]
        }
      ]
    },
    {
      "cell_type": "code",
      "metadata": {
        "id": "bUq3kYqWMF88"
      },
      "source": [
        "# get the movielens movies dataframe\n",
        "movielens_df = pd.read_csv(ml_100k_dataset_path + '/movies.csv')\n",
        "# construct a dataframe containing movies and their corresponding embeddings\n",
        "available_movies_info_df = pd.DataFrame(list(zip(available_movie_titles, list(available_movie_embeddings))),\n",
        "               columns =['title', 'embedding'])\n",
        "# merge the two dataframes in order to hold information about movies, their representation and identifier\n",
        "available_movies_info_df = pd.merge(available_movies_info_df, movielens_df, on='title')"
      ],
      "execution_count": null,
      "outputs": []
    },
    {
      "cell_type": "code",
      "metadata": {
        "colab": {
          "base_uri": "https://localhost:8080/"
        },
        "id": "MpaNmgszYKZh",
        "outputId": "e17124ed-4f44-42cc-f7af-9ec3cdcd4e8b"
      },
      "source": [
        "iteratable_to_file(list(available_movies_info_df['movieId']), audio_available_movie_ids_path)\n",
        "print('Available, embedded movie identifiers stored!')"
      ],
      "execution_count": null,
      "outputs": [
        {
          "output_type": "stream",
          "name": "stdout",
          "text": [
            "Available, embedded movie identifiers stored!\n"
          ]
        }
      ]
    },
    {
      "cell_type": "code",
      "metadata": {
        "colab": {
          "base_uri": "https://localhost:8080/"
        },
        "id": "XehZl6ZJMSnL",
        "outputId": "197f5623-a1d1-4128-b7d2-b415af8aa20c"
      },
      "source": [
        "# we will be storing the dataframe containing movies, their embeddings, identifier and genre descriptors\n",
        "available_movies_info_df.to_csv(audio_available_movie_info)\n",
        "print('Available, embedded movies info stored!')"
      ],
      "execution_count": null,
      "outputs": [
        {
          "output_type": "stream",
          "name": "stdout",
          "text": [
            "Available, embedded movies info stored!\n"
          ]
        }
      ]
    },
    {
      "cell_type": "markdown",
      "source": [
        "### (3.8.4) Datasets Merging"
      ],
      "metadata": {
        "id": "8WGwa8sQcJXP"
      }
    },
    {
      "cell_type": "markdown",
      "metadata": {
        "id": "3lC2cIP4AnKu"
      },
      "source": [
        "After gathering all the necessary information about embedded movies that are present in the MovieLens dataset, we merge both datasets, leaving only the movies and the interactions that match the available ones."
      ]
    },
    {
      "cell_type": "code",
      "metadata": {
        "id": "iO7z2uo8AmMV"
      },
      "source": [
        "# load initial movies and ratings so we can extract the valid subset\n",
        "# corresponding to existing movies with custom multimodal embeddings\n",
        "movielens_available_movies = pd.read_csv(ml_100k_custom_dataset_path + \"/movies.csv\")\n",
        "movielens_available_ratings = pd.read_csv(ml_100k_custom_dataset_path + \"/ratings.csv\")\n",
        "\n",
        "# extract the list containing the identifiers of movies for which we have multimodal embeddings\n",
        "audio_embedded_movie_ids = list(movielens_available_movies[movielens_available_movies['title'].isin(available_movie_titles)]['movieId'])\n",
        "\n",
        "# csv files containing movie and rating entries that correspond to embedded movies\n",
        "audio_embedding_ratings_df = movielens_available_ratings[movielens_available_ratings['movieId'].isin(audio_embedded_movie_ids)]\n",
        "audio_embeddings_movies_df = movielens_available_movies[movielens_available_movies['movieId'].isin(audio_embedded_movie_ids)]"
      ],
      "execution_count": null,
      "outputs": []
    },
    {
      "cell_type": "code",
      "metadata": {
        "id": "CgCySeqJBS2x"
      },
      "source": [
        "# storing the valid subset as our final dataset\n",
        "audio_embedding_ratings_df.to_csv(ml_100k_custom_dataset_path + \"/ratings.csv\")\n",
        "audio_embeddings_movies_df.to_csv(ml_100k_custom_dataset_path + \"/movies.csv\")"
      ],
      "execution_count": null,
      "outputs": []
    },
    {
      "cell_type": "code",
      "source": [
        "test_available_movie_titles = file_to_list(audio_available_movie_titles_path)\n",
        "title_to_audio_embedding_index = {}\n",
        "\n",
        "for index, embedded_movie_title in enumerate(test_available_movie_titles):\n",
        "  title_to_audio_embedding_index[embedded_movie_title] = index"
      ],
      "metadata": {
        "id": "3T27XKf-DUtk"
      },
      "execution_count": null,
      "outputs": []
    },
    {
      "cell_type": "code",
      "source": [
        "# get the titles of the movies that we have custom embeddings for\n",
        "custom_movielens_movies = pd.read_csv(ml_100k_custom_dataset_path + '/movies.csv')\n",
        "custom_movielens_titles = custom_movielens_movies['title']\n",
        "# load the merged audio embeddings\n",
        "merged_audio_embeddings = np.load(audio_available_movie_embeddings_path)\n",
        "movielens_audio_embeddings_index_list = []\n",
        "\n",
        "# reindex the embeddings so they correspond to the correct movie from the movielens dataset\n",
        "for custom_movielens_title in custom_movielens_titles:\n",
        "  movie_embedding_index = title_to_audio_embedding_index[custom_movielens_title]\n",
        "  movielens_audio_embeddings_index_list.append(movie_embedding_index)\n",
        "\n",
        "movielens_audio_embeddings = merged_audio_embeddings[movielens_audio_embeddings_index_list]"
      ],
      "metadata": {
        "id": "LJcHWnwdJ12m"
      },
      "execution_count": null,
      "outputs": []
    },
    {
      "cell_type": "markdown",
      "source": [
        "### (3.8.5) Fusion Functions"
      ],
      "metadata": {
        "id": "FkBjNwi_cWAn"
      }
    },
    {
      "cell_type": "code",
      "source": [
        "# final embeddings are the mean of lightFM embeddings\n",
        "# and the embeddings derived from given modalities\n",
        "def average_fusion(base_embeddings, multimodal_embeddings, **kwargs):\n",
        "  # lightFM embeddings count as embeddings as well\n",
        "  total_modalities = len(multimodal_embeddings) + 1\n",
        "  return sum(multimodal_embeddings + [base_embeddings]) / total_modalities\n",
        "\n",
        "def sum_fusion(base_embeddings, multimodal_embeddings, **kwargs):\n",
        "  return sum(multimodal_embeddings + [base_embeddings])\n",
        "\n",
        "# returns the item wise product of base lightFM embeddings and the given multimodal ones\n",
        "def product_fusion(base_embeddings, multimodal_embeddings, **kwargs):\n",
        "  return (reduce((lambda x, y: x * y), multimodal_embeddings + [base_embeddings]))\n",
        "\n",
        "def pri_fusion(base_embeddings, multimodal_embeddings, **kwargs):\n",
        "  pi = kwargs['pi']\n",
        "  pri_fusion_embeddings = pi * base_embeddings\n",
        "  \n",
        "  for l, modal_embedding in enumerate(multimodal_embeddings):\n",
        "    pl = pi*((1-pi)**(l+1))\n",
        "    pri_fusion_embeddings += pl * modal_embedding\n",
        "\n",
        "  return pri_fusion_embeddings\n",
        "\n",
        "def weighted_fusion(base_embeddings, multimodal_embeddings, **kwargs):\n",
        "  weights = kwargs['weights']\n",
        "  all_embeddings = [base_embeddings] + multimodal_embeddings\n",
        "\n",
        "  return sum([weight * embedding for (weight, embedding) in zip(weights, all_embeddings)])\n",
        "\n",
        "# simply returns the given embeddings as the result of the \"fusion\"\n",
        "# in this case we are simply feeding pretrained embeddings as a starting point\n",
        "# to the algorithm\n",
        "def initialization_fusion(base_embeddings, multimodal_embeddings, **kwargs):\n",
        "  target_embeddings_index = kwargs['target_embeddings_index']\n",
        "  return multimodal_embeddings[target_embeddings_index]\n",
        "\n",
        "# contains pointers to functions\n",
        "# that execute the embeddings fusion\n",
        "fusion_functions = {\n",
        "    \"average\": average_fusion,\n",
        "    \"sum\": sum_fusion,\n",
        "    \"product\": product_fusion,\n",
        "    \"pri\": pri_fusion,\n",
        "    \"weighted\": weighted_fusion,\n",
        "    \"init\": initialization_fusion\n",
        "}\n",
        "\n",
        "\n",
        "fusion_arguments = {\"pi\":0.5, \"target_embeddings_index\":0}"
      ],
      "metadata": {
        "id": "Ob0fQhLD-aZe"
      },
      "execution_count": null,
      "outputs": []
    },
    {
      "cell_type": "code",
      "source": [
        "plain_recommender = Recommendation_System(algorithms_constructors, datasets_paths, metric_constructors, fusion_functions)\n",
        "\n",
        "print(\"[LightFM only embeddings]\")\n",
        "plain_recommender_results = plain_recommender.conduct_experiment(algorithm='LightFM',dataset='ML-100K-CUSTOM',folding_strategy=folding_strategy, epochs=30, recommend=True, recommendations_num=30, metadata=None, fusion_order=None, fusion_type=None, fusion_arguments=None, no_components=16, loss = 'bpr')\n",
        "plain_recommender_evaluations = plain_recommender.evaluate_recommendations(recommendation_results=plain_recommender_results)"
      ],
      "metadata": {
        "colab": {
          "base_uri": "https://localhost:8080/"
        },
        "id": "kxLNiEQpll2G",
        "outputId": "716aaaa0-fb24-4894-915b-747ddbb1f4d3"
      },
      "execution_count": null,
      "outputs": [
        {
          "output_type": "stream",
          "name": "stdout",
          "text": [
            "[LightFM only embeddings]\n",
            "Average  Precision :  0.09459459459459457\n",
            "Average  Recall :  0.6479058101907749\n",
            "Average  Reciprocal_Rank :  0.4680082958947589\n",
            "Average  nDCG :  0.4116634307251094\n"
          ]
        }
      ]
    },
    {
      "cell_type": "code",
      "source": [
        "metadata_EF_INIT = MetadataInfo(True, True, None, [[np.copy(movielens_audio_embeddings)]])\n",
        "\n",
        "audio_recommender_EF_INIT = Recommendation_System(algorithms_constructors, datasets_paths, metric_constructors, fusion_functions)\n",
        "\n",
        "print(\"[LightFM with custom, initial embeddings]\")\n",
        "audio_EF_INIT_results = audio_recommender_EF_INIT.conduct_experiment(algorithm='LightFM',dataset='ML-100K-CUSTOM',folding_strategy=folding_strategy, epochs=30, recommend=True, recommendations_num=30, metadata=metadata_EF_INIT, fusion_order=\"early\", fusion_type=\"init\", fusion_arguments=fusion_arguments, no_components=16, loss = 'bpr')\n",
        "audio_EF_INIT_evaluations = audio_recommender_EF_INIT.evaluate_recommendations(recommendation_results=audio_EF_INIT_results)"
      ],
      "metadata": {
        "colab": {
          "base_uri": "https://localhost:8080/"
        },
        "id": "o10uZ4G9lmdZ",
        "outputId": "7b47ae3c-1b25-4610-ca67-c32460300bc4"
      },
      "execution_count": null,
      "outputs": [
        {
          "output_type": "stream",
          "name": "stdout",
          "text": [
            "[LightFM with custom, initial embeddings]\n",
            "Average  Precision :  0.09351351351351352\n",
            "Average  Recall :  0.6439128774988246\n",
            "Average  Reciprocal_Rank :  0.4211549870924642\n",
            "Average  nDCG :  0.38762119235780634\n"
          ]
        }
      ]
    },
    {
      "cell_type": "code",
      "source": [
        "metadata_EF_AVG =  MetadataInfo(True, True, None, [[np.copy(movielens_audio_embeddings)]])\n",
        "\n",
        "audio_recommender_EF_AVG = Recommendation_System(algorithms_constructors, datasets_paths, metric_constructors, fusion_functions)\n",
        "\n",
        "print(\"[LightFM with early average fusion]\")\n",
        "audio_EF_AVG_results = audio_recommender_EF_AVG.conduct_experiment(algorithm='LightFM',dataset='ML-100K-CUSTOM',folding_strategy=folding_strategy, epochs=30, recommend=True, recommendations_num=30, metadata=metadata_EF_AVG, fusion_order=\"early\", fusion_type=\"average\", fusion_arguments=fusion_arguments, no_components=16, loss = 'bpr')\n",
        "audio_EF_AVG_evaluations = audio_recommender_EF_AVG.evaluate_recommendations(recommendation_results=audio_EF_AVG_results)"
      ],
      "metadata": {
        "colab": {
          "base_uri": "https://localhost:8080/"
        },
        "id": "o0VFkWwLlnGl",
        "outputId": "a9cf2fc4-7ea4-4e8f-b9c5-aaed09246ec3"
      },
      "execution_count": null,
      "outputs": [
        {
          "output_type": "stream",
          "name": "stdout",
          "text": [
            "[LightFM with early average fusion]\n",
            "Average  Precision :  0.09387387387387386\n",
            "Average  Recall :  0.6437303470531363\n",
            "Average  Reciprocal_Rank :  0.4567684840972656\n",
            "Average  nDCG :  0.4053616592677014\n"
          ]
        }
      ]
    },
    {
      "cell_type": "code",
      "source": [
        "metadata_EF_PROD =  MetadataInfo(True, True, None, [[np.copy(movielens_audio_embeddings)]])\n",
        "\n",
        "audio_recommender_EF_PROD = Recommendation_System(algorithms_constructors, datasets_paths, metric_constructors, fusion_functions)\n",
        "\n",
        "print(\"[LightFM with early product fusion]\")\n",
        "audio_EF_PROD_results = audio_recommender_EF_PROD.conduct_experiment(algorithm='LightFM',dataset='ML-100K-CUSTOM',folding_strategy=folding_strategy, epochs=30, recommend=True, recommendations_num=30, metadata=metadata_EF_PROD, fusion_order=\"early\", fusion_type=\"product\", fusion_arguments=fusion_arguments, no_components=16, loss = 'bpr')\n",
        "audio_EF_PROD_evaluations = audio_recommender_EF_PROD.evaluate_recommendations(recommendation_results=audio_EF_PROD_results)"
      ],
      "metadata": {
        "colab": {
          "base_uri": "https://localhost:8080/"
        },
        "id": "lXVZPBBio4tZ",
        "outputId": "92691570-3b5f-4ad0-b685-5d50bde1317e"
      },
      "execution_count": null,
      "outputs": [
        {
          "output_type": "stream",
          "name": "stdout",
          "text": [
            "[LightFM with early product fusion]\n",
            "Average  Precision :  0.09441441441441438\n",
            "Average  Recall :  0.6481304039212236\n",
            "Average  Reciprocal_Rank :  0.44399649573333827\n",
            "Average  nDCG :  0.40090103264777727\n"
          ]
        }
      ]
    },
    {
      "cell_type": "code",
      "source": [
        "metadata_LF_PROD =  MetadataInfo(True, True, None, [[np.copy(movielens_audio_embeddings)]])\n",
        "\n",
        "audio_recommender_LF_PROD = Recommendation_System(algorithms_constructors, datasets_paths, metric_constructors, fusion_functions)\n",
        "\n",
        "print(\"[LightFM with late product fusion]\")\n",
        "audio_LF_PROD_results = audio_recommender_LF_PROD.conduct_experiment(algorithm='LightFM',dataset='ML-100K-CUSTOM',folding_strategy=folding_strategy, epochs=30, recommend=True, recommendations_num=30, metadata=metadata_LF_PROD, fusion_order=\"late\", fusion_type=\"product\", fusion_arguments=fusion_arguments, no_components=16, loss = 'bpr')\n",
        "audio_LF_PROD_evaluations = audio_recommender_LF_PROD.evaluate_recommendations(recommendation_results=audio_LF_PROD_results)"
      ],
      "metadata": {
        "colab": {
          "base_uri": "https://localhost:8080/"
        },
        "id": "NdS6bnhQpYIA",
        "outputId": "b25dd43c-695c-470e-c820-ea43ccd57a29"
      },
      "execution_count": null,
      "outputs": [
        {
          "output_type": "stream",
          "name": "stdout",
          "text": [
            "[LightFM with late product fusion]\n",
            "Average  Precision :  0.10396396396396403\n",
            "Average  Recall :  0.7027243792710205\n",
            "Average  Reciprocal_Rank :  0.45196047099937264\n",
            "Average  nDCG :  0.4209486513265374\n"
          ]
        }
      ]
    },
    {
      "cell_type": "code",
      "source": [
        "metadata_LF_AVG =  MetadataInfo(True, True, None, [[np.copy(movielens_audio_embeddings)]])\n",
        "\n",
        "audio_recommender_LF_AVG = Recommendation_System(algorithms_constructors, datasets_paths, metric_constructors, fusion_functions)\n",
        "\n",
        "print(\"[LightFM with late average fusion]\")\n",
        "audio_LF_AVG_results = audio_recommender_LF_AVG.conduct_experiment(algorithm='LightFM',dataset='ML-100K-CUSTOM',folding_strategy=folding_strategy, epochs=30, recommend=True, recommendations_num=30, metadata=metadata_LF_AVG, fusion_order=\"late\", fusion_type=\"average\", fusion_arguments=fusion_arguments, no_components=16, loss = 'bpr')\n",
        "audio_LF_AVG_evaluations = audio_recommender_LF_AVG.evaluate_recommendations(recommendation_results=audio_LF_AVG_results)"
      ],
      "metadata": {
        "colab": {
          "base_uri": "https://localhost:8080/"
        },
        "id": "hCbkFJrvqelO",
        "outputId": "33a204ef-5551-479e-f890-b2f59846a4ea"
      },
      "execution_count": null,
      "outputs": [
        {
          "output_type": "stream",
          "name": "stdout",
          "text": [
            "[LightFM with late average fusion]\n",
            "Average  Precision :  0.10738738738738748\n",
            "Average  Recall :  0.7148174854124509\n",
            "Average  Reciprocal_Rank :  0.47837602610135915\n",
            "Average  nDCG :  0.4475806177640534\n"
          ]
        }
      ]
    },
    {
      "cell_type": "code",
      "source": [
        "metadata_LF_PROD =  MetadataInfo(True, True, None, [[np.copy(movielens_audio_embeddings)]])\n",
        "\n",
        "audio_recommender_LF_PROD = Recommendation_System(algorithms_constructors, datasets_paths, metric_constructors, fusion_functions)\n",
        "\n",
        "print(\"[LightFM with late product fusion]\")\n",
        "audio_LF_PROD_results = audio_recommender_LF_PROD.conduct_experiment(algorithm='LightFM',dataset='ML-100K-CUSTOM',folding_strategy=folding_strategy, epochs=30, recommend=True, recommendations_num=30, metadata=metadata_LF_PROD, fusion_order=\"late\", fusion_type=\"product\", fusion_arguments=fusion_arguments, no_components=16, loss = 'bpr')\n",
        "audio_LF_PROD_evaluations = audio_recommender_LF_PROD.evaluate_recommendations(recommendation_results=audio_LF_PROD_results)"
      ],
      "metadata": {
        "colab": {
          "base_uri": "https://localhost:8080/"
        },
        "id": "oWsScLWspY70",
        "outputId": "8e5d613a-74b5-430b-9e27-d4e71b5cb512"
      },
      "execution_count": null,
      "outputs": [
        {
          "output_type": "stream",
          "name": "stdout",
          "text": [
            "[LightFM with late product fusion]\n",
            "Average  Precision :  0.10306306306306312\n",
            "Average  Recall :  0.6741464098510808\n",
            "Average  Reciprocal_Rank :  0.4791273775128266\n",
            "Average  nDCG :  0.4274865077935511\n"
          ]
        }
      ]
    },
    {
      "cell_type": "code",
      "source": [
        "audio_recommender_LF_PRI = Recommendation_System(algorithms_constructors, datasets_paths, metric_constructors, fusion_functions)\n",
        "\n",
        "# we will be only using precalculated audio embeddings, user embeddings initialized randomly\n",
        "audioItemMetadata_LF_PRI = MetadataInfo(True, True, None, [[np.copy(movielens_audio_embeddings)]])\n",
        "\n",
        "fusion_data = {\"pi\":0.3, \"target_embeddings_index\":0}\n",
        "\n",
        "audio_embeddings_results_LF_PRI = audio_recommender_LF_PRI.conduct_experiment(algorithm='LightFM',dataset='ML-100K-CUSTOM',folding_strategy=folding_strategy, epochs=30, recommend=True, recommendations_num=30, metadata=audioItemMetadata_LF_PRI, fusion_order=\"late\", fusion_type=\"pri\", fusion_arguments=fusion_data, no_components=16, loss = 'bpr')\n",
        "audio_embeddings_evaluations_LF_PRI = audio_recommender_LF_PRI.evaluate_recommendations(recommendation_results=audio_embeddings_results_LF_PRI)"
      ],
      "metadata": {
        "id": "jwZOFjGsHKZg",
        "colab": {
          "base_uri": "https://localhost:8080/"
        },
        "outputId": "2d2e46b1-2f0f-4fc3-837c-e643ca531bfe"
      },
      "execution_count": null,
      "outputs": [
        {
          "output_type": "stream",
          "name": "stdout",
          "text": [
            "Average  Precision :  0.11405405405405412\n",
            "Average  Recall :  0.7401933614458852\n",
            "Average  Reciprocal_Rank :  0.5259804394804395\n",
            "Average  nDCG :  0.4719342629030685\n"
          ]
        }
      ]
    },
    {
      "cell_type": "markdown",
      "source": [
        "### (3.8.x) Embedding Weights Grid Search"
      ],
      "metadata": {
        "id": "dGOCgOaFd5id"
      }
    },
    {
      "cell_type": "markdown",
      "source": [
        "In this section, we will attempt to find the best weights for LightFM and Audio Embeddings respectively in order to maximize both top-K metrics (*nDCG* & *Reciprocal Rank*). Having observed through average and PRI late fusion that smaller weights tend to increase final scores, we will do a grid search through all possible weight pairs in range [*0.0* .. *1.0*] with step of *0.1*"
      ],
      "metadata": {
        "id": "uf21_i_udCet"
      }
    },
    {
      "cell_type": "code",
      "source": [
        "weights = [i*0.1 for i in range(1,11)]\n",
        "weights_pairs = list((itertools.combinations(weights, 2))) + list(zip(weights, weights))\n",
        "\n",
        "best_reciprocal_rank = 0.0\n",
        "best_nDCG = 0.0\n",
        "reciprocal_ranks = []\n",
        "nDCGs = []\n",
        "\n",
        "best_rec_data = (best_reciprocal_rank, 0.0, 0.0)\n",
        "best_nDCG_data = (best_nDCG, 0.0, 0.0)\n",
        "\n",
        "# for each embeddings pair, calculate the scores given by weighted late fusion \n",
        "for (w1,w2) in weights_pairs:\n",
        "  audioItemMetadata_LF_WGH = MetadataInfo(True, True, None, [[np.copy(movielens_audio_embeddings)]])\n",
        "  audio_recommender_LF_WGH = Recommendation_System(algorithms_constructors, datasets_paths, metric_constructors, fusion_functions)\n",
        "\n",
        "  fusion_arguments = {\"weights\":[w1,w2]}\n",
        "\n",
        "  audio_embeddings_results_LF_WGH = audio_recommender_LF_WGH.conduct_experiment(algorithm='LightFM',dataset='ML-100K-CUSTOM',folding_strategy=folding_strategy, epochs=30, recommend=True, recommendations_num=30, metadata=audioItemMetadata_LF_AVG, fusion_order=\"late\", fusion_type=\"weighted\", fusion_arguments=fusion_arguments, no_components=16, loss = 'bpr')\n",
        "  audio_embeddings_evaluations_LF_WGH = audio_recommender_LF_WGH.evaluate_recommendations(recommendation_results=audio_embeddings_results_LF_WGH, mute=True)\n",
        "\n",
        "  current_reciprocal_rank = audio_embeddings_evaluations_LF_WGH['Reciprocal_Rank']\n",
        "  current_nDCG = audio_embeddings_evaluations_LF_WGH['nDCG']\n",
        "\n",
        "  if(current_reciprocal_rank > best_rec_data[0]):\n",
        "    best_rec_data = (current_reciprocal_rank, w1, w2)\n",
        "\n",
        "  if(current_nDCG > best_nDCG_data[0]):\n",
        "    best_nDCG_data = (current_nDCG, w1, w2)\n",
        "\n",
        "  reciprocal_ranks.append(current_reciprocal_rank)\n",
        "  nDCGs.append(current_nDCG)"
      ],
      "metadata": {
        "id": "JzzUONHNBC0s"
      },
      "execution_count": null,
      "outputs": []
    },
    {
      "cell_type": "markdown",
      "source": [
        "### (3.8.x) Weights & Scores Visualization"
      ],
      "metadata": {
        "id": "ScfkaMV2eD99"
      }
    },
    {
      "cell_type": "code",
      "source": [
        "X, Y = zip(*weights_pairs)"
      ],
      "metadata": {
        "id": "YrWcxqwRVNxz"
      },
      "execution_count": null,
      "outputs": []
    },
    {
      "cell_type": "code",
      "source": [
        "X = np.array(X)\n",
        "Y = np.array(Y)\n",
        "Z1 = np.array(reciprocal_ranks)\n",
        "Z2 = np.array(nDCGs)\n",
        "\n",
        "fig = plt.figure(figsize=(8,4))\n",
        "\n",
        "#First plot\n",
        "ax = fig.add_subplot(121, projection='3d')\n",
        "\n",
        "ax.scatter(X,Y,Z1, marker=\"x\", c=\"red\")\n",
        "\n",
        "ax.set_title(\"Reciprocal Rank\")\n",
        "\n",
        "ax.set_xlabel(\"Weight (LightFM)\")\n",
        "\n",
        "ax.set_ylabel(\"Weight (Audio)\")\n",
        "\n",
        "#Second plot\n",
        "ax = fig.add_subplot(122, projection='3d')\n",
        "\n",
        "ax.scatter(xs = X, ys = Y, zs = Z2)\n",
        "\n",
        "ax.set_title(\"Normalized Discounted Cumulative Gain\")\n",
        "\n",
        "ax.set_xlabel(\"Weight (LightFM)\")\n",
        "\n",
        "ax.set_ylabel(\"Weight (Audio)\")\n",
        "\n",
        "plt.show() "
      ],
      "metadata": {
        "colab": {
          "base_uri": "https://localhost:8080/",
          "height": 248
        },
        "id": "b0iM5t9nW_Ym",
        "outputId": "1f9f25ca-6c35-4c9e-97fe-92a34e1e7451"
      },
      "execution_count": null,
      "outputs": [
        {
          "output_type": "display_data",
          "data": {
            "image/png": "[encoded data removed]",
            "text/plain": [
              "<Figure size 576x288 with 2 Axes>"
            ]
          },
          "metadata": {
            "needs_background": "light"
          }
        }
      ]
    },
    {
      "cell_type": "code",
      "source": [
        "print(\"Best Reciprocal Rank [{}] achieved with ({},{})\".format(best_rec_data[0],best_rec_data[1],best_rec_data[2]))\n",
        "print(\"Best nDCG [{}] achieved with ({},{})\".format(best_nDCG_data[0],best_nDCG_data[1],best_nDCG_data[2]))"
      ],
      "metadata": {
        "colab": {
          "base_uri": "https://localhost:8080/"
        },
        "id": "WOlcxfQ7ZCwJ",
        "outputId": "06365be5-88d6-400b-8a46-179388d57716"
      },
      "execution_count": null,
      "outputs": [
        {
          "output_type": "stream",
          "name": "stdout",
          "text": [
            "Best Reciprocal Rank [0.5567816417191188] achieved with (0.4,0.4)\n",
            "Best nDCG [0.49850866747073375] achieved with (0.30000000000000004,0.30000000000000004)\n"
          ]
        }
      ]
    },
    {
      "cell_type": "code",
      "source": [
        "pipiPupuMetadata = MetadataInfo(True, True, None, [[np.copy(movielens_audio_embeddings)]])\n",
        "pipiPupuRecommender = Recommendation_System(algorithms_constructors, datasets_paths, metric_constructors, fusion_functions)\n",
        "\n",
        "fs_args = {\"weights\":[0.3,0.3]}\n",
        "\n",
        "pipiPupuResults = pipiPupuRecommender.conduct_experiment(algorithm='LightFM',dataset='ML-100K-CUSTOM',folding_strategy=folding_strategy, epochs=30, recommend=True, recommendations_num=30, metadata=pipiPupuMetadata, fusion_order=\"late\", fusion_type=\"weighted\", fusion_arguments=fs_args, no_components=16, loss = 'bpr')\n",
        "pipiPupuEvaluations = pipiPupuRecommender.evaluate_recommendations(recommendation_results=pipiPupuResults, mute=False)"
      ],
      "metadata": {
        "colab": {
          "base_uri": "https://localhost:8080/"
        },
        "id": "uF5C6QKk_51A",
        "outputId": "6c97482e-337e-4634-a157-338a17e05dc1"
      },
      "execution_count": null,
      "outputs": [
        {
          "output_type": "stream",
          "name": "stdout",
          "text": [
            "Recommendation Results\n",
            "[(     user    item  rating\n",
            "0       2   89774     5.0\n",
            "1       2  106782     5.0\n",
            "2       6      47     4.0\n",
            "3       6     318     5.0\n",
            "4       7    5349     3.5\n",
            "..    ...     ...     ...\n",
            "893   605    4993     5.0\n",
            "894   605    1210     5.0\n",
            "895   605    3000     3.0\n",
            "896   605    2011     4.0\n",
            "897   609     318     4.0\n",
            "\n",
            "[898 rows x 3 columns],         item     score  user  rank Algorithm\n",
            "4        296  0.403248     2     1   LightFM\n",
            "82     48780  0.190337     2     2   LightFM\n",
            "84     89745  0.189797     2     3   LightFM\n",
            "2         50  0.172705     2     4   LightFM\n",
            "26      2571  0.099356     2     5   LightFM\n",
            "...      ...       ...   ...   ...       ...\n",
            "10492   1214 -0.228752   609    26   LightFM\n",
            "10550   7153 -0.289529   609    27   LightFM\n",
            "10586    778 -0.323794   609    28   LightFM\n",
            "10532     16 -0.366320   609    29   LightFM\n",
            "10481    527 -0.371000   609    30   LightFM\n",
            "\n",
            "[5550 rows x 5 columns])]\n",
            "Tests List\n",
            "[     user    item  rating\n",
            "0       2   89774     5.0\n",
            "1       2  106782     5.0\n",
            "2       6      47     4.0\n",
            "3       6     318     5.0\n",
            "4       7    5349     3.5\n",
            "..    ...     ...     ...\n",
            "893   605    4993     5.0\n",
            "894   605    1210     5.0\n",
            "895   605    3000     3.0\n",
            "896   605    2011     4.0\n",
            "897   609     318     4.0\n",
            "\n",
            "[898 rows x 3 columns]]\n",
            "Recommendations List\n",
            "[        item     score  user  rank Algorithm\n",
            "4        296  0.403248     2     1   LightFM\n",
            "82     48780  0.190337     2     2   LightFM\n",
            "84     89745  0.189797     2     3   LightFM\n",
            "2         50  0.172705     2     4   LightFM\n",
            "26      2571  0.099356     2     5   LightFM\n",
            "...      ...       ...   ...   ...       ...\n",
            "10492   1214 -0.228752   609    26   LightFM\n",
            "10550   7153 -0.289529   609    27   LightFM\n",
            "10586    778 -0.323794   609    28   LightFM\n",
            "10532     16 -0.366320   609    29   LightFM\n",
            "10481    527 -0.371000   609    30   LightFM\n",
            "\n",
            "[5550 rows x 5 columns]]\n",
            "Tests\n",
            "     user    item  rating\n",
            "0       2   89774     5.0\n",
            "1       2  106782     5.0\n",
            "2       6      47     4.0\n",
            "3       6     318     5.0\n",
            "4       7    5349     3.5\n",
            "..    ...     ...     ...\n",
            "893   605    4993     5.0\n",
            "894   605    1210     5.0\n",
            "895   605    3000     3.0\n",
            "896   605    2011     4.0\n",
            "897   609     318     4.0\n",
            "\n",
            "[898 rows x 3 columns]\n",
            "Recommendations\n",
            "       item     score  user  rank Algorithm\n",
            "0       296  0.403248     2     1   LightFM\n",
            "1     48780  0.190337     2     2   LightFM\n",
            "2     89745  0.189797     2     3   LightFM\n",
            "3        50  0.172705     2     4   LightFM\n",
            "4      2571  0.099356     2     5   LightFM\n",
            "...     ...       ...   ...   ...       ...\n",
            "5545   1214 -0.228752   609    26   LightFM\n",
            "5546   7153 -0.289529   609    27   LightFM\n",
            "5547    778 -0.323794   609    28   LightFM\n",
            "5548     16 -0.366320   609    29   LightFM\n",
            "5549    527 -0.371000   609    30   LightFM\n",
            "\n",
            "[5550 rows x 5 columns]\n",
            "Metrics\n",
            "                nrecs  precision    recall  recip_rank      ndcg\n",
            "Algorithm user                                                  \n",
            "LightFM   2        30   0.066667  1.000000    0.166667  0.296350\n",
            "          6        30   0.066667  1.000000    0.500000  0.835969\n",
            "          7        30   0.133333  0.571429    0.500000  0.545754\n",
            "          8        30   0.066667  1.000000    1.000000  0.605036\n",
            "          11       30   0.033333  1.000000    0.142857  0.356207\n",
            "...               ...        ...       ...         ...       ...\n",
            "          598      30   0.000000  0.000000    0.000000  0.000000\n",
            "          599      30   0.300000  0.375000    1.000000  0.507407\n",
            "          601      30   0.233333  0.875000    1.000000  0.562661\n",
            "          605      30   0.100000  0.600000    0.333333  0.421090\n",
            "          609      30   0.033333  1.000000    0.250000  0.500000\n",
            "\n",
            "[185 rows x 5 columns]\n",
            "Average  Precision :  0.1129729729729731\n",
            "Average  Recall :  0.729693761163676\n",
            "Average  Reciprocal_Rank :  0.5226643259993691\n",
            "Average  nDCG :  0.47701297819896293\n"
          ]
        }
      ]
    }
  ]
}